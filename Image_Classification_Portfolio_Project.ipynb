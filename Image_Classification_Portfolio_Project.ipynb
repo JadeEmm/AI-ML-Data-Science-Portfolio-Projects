{
  "nbformat": 4,
  "nbformat_minor": 0,
  "metadata": {
    "colab": {
      "provenance": []
    },
    "kernelspec": {
      "name": "python3",
      "display_name": "Python 3"
    },
    "language_info": {
      "name": "python"
    }
  },
  "cells": [
    {
      "cell_type": "markdown",
      "source": [
        "Introduction:\n",
        "\n",
        "- AI = Technique which enables machines to mimic human behaviour\n",
        "- ML = Subset of AI techniques which uses statistical methods to enable machines to improve with experience\n",
        "- DL = Subset of ML which makes the computation of multi-layer neural networks feasible"
      ],
      "metadata": {
        "id": "faCMsadpkNso"
      }
    },
    {
      "cell_type": "markdown",
      "source": [
        "Complete End-to-End ML Project\n",
        "1. Create dataset by web scraping using Bing/Google Image search APIs\n",
        "2. Feature Extractions\n",
        "3. Build model\n",
        "4. Hyperparameter Tuning to achieve high accuracy\n",
        "5. Model depolyment by building a web App using Streamlit\n"
      ],
      "metadata": {
        "id": "71aaqIbvlSxj"
      }
    },
    {
      "cell_type": "markdown",
      "source": [
        "# Data Gathering\n",
        "\n",
        "Use bing-image-downloader Python library to scrape the images from the web for the dataset"
      ],
      "metadata": {
        "id": "BaZ962_ZmikG"
      }
    },
    {
      "cell_type": "code",
      "execution_count": null,
      "metadata": {
        "colab": {
          "base_uri": "https://localhost:8080/"
        },
        "id": "tLA2yerZkGPA",
        "outputId": "ec0d2dbf-e806-4b3a-8900-f155ac317c85"
      },
      "outputs": [
        {
          "output_type": "stream",
          "name": "stdout",
          "text": [
            "Collecting bing-image-downloader\n",
            "  Downloading bing_image_downloader-1.1.2-py3-none-any.whl (5.9 kB)\n",
            "Installing collected packages: bing-image-downloader\n",
            "Successfully installed bing-image-downloader-1.1.2\n",
            "Collecting ipython-autotime\n",
            "  Downloading ipython_autotime-0.3.1-py2.py3-none-any.whl (6.8 kB)\n",
            "Requirement already satisfied: ipython in /usr/local/lib/python3.10/dist-packages (from ipython-autotime) (7.34.0)\n",
            "Requirement already satisfied: setuptools>=18.5 in /usr/local/lib/python3.10/dist-packages (from ipython->ipython-autotime) (67.7.2)\n",
            "Collecting jedi>=0.16 (from ipython->ipython-autotime)\n",
            "  Downloading jedi-0.19.0-py2.py3-none-any.whl (1.6 MB)\n",
            "\u001b[2K     \u001b[90m━━━━━━━━━━━━━━━━━━━━━━━━━━━━━━━━━━━━━━━━\u001b[0m \u001b[32m1.6/1.6 MB\u001b[0m \u001b[31m7.3 MB/s\u001b[0m eta \u001b[36m0:00:00\u001b[0m\n",
            "\u001b[?25hRequirement already satisfied: decorator in /usr/local/lib/python3.10/dist-packages (from ipython->ipython-autotime) (4.4.2)\n",
            "Requirement already satisfied: pickleshare in /usr/local/lib/python3.10/dist-packages (from ipython->ipython-autotime) (0.7.5)\n",
            "Requirement already satisfied: traitlets>=4.2 in /usr/local/lib/python3.10/dist-packages (from ipython->ipython-autotime) (5.7.1)\n",
            "Requirement already satisfied: prompt-toolkit!=3.0.0,!=3.0.1,<3.1.0,>=2.0.0 in /usr/local/lib/python3.10/dist-packages (from ipython->ipython-autotime) (3.0.39)\n",
            "Requirement already satisfied: pygments in /usr/local/lib/python3.10/dist-packages (from ipython->ipython-autotime) (2.16.1)\n",
            "Requirement already satisfied: backcall in /usr/local/lib/python3.10/dist-packages (from ipython->ipython-autotime) (0.2.0)\n",
            "Requirement already satisfied: matplotlib-inline in /usr/local/lib/python3.10/dist-packages (from ipython->ipython-autotime) (0.1.6)\n",
            "Requirement already satisfied: pexpect>4.3 in /usr/local/lib/python3.10/dist-packages (from ipython->ipython-autotime) (4.8.0)\n",
            "Requirement already satisfied: parso<0.9.0,>=0.8.3 in /usr/local/lib/python3.10/dist-packages (from jedi>=0.16->ipython->ipython-autotime) (0.8.3)\n",
            "Requirement already satisfied: ptyprocess>=0.5 in /usr/local/lib/python3.10/dist-packages (from pexpect>4.3->ipython->ipython-autotime) (0.7.0)\n",
            "Requirement already satisfied: wcwidth in /usr/local/lib/python3.10/dist-packages (from prompt-toolkit!=3.0.0,!=3.0.1,<3.1.0,>=2.0.0->ipython->ipython-autotime) (0.2.6)\n",
            "Installing collected packages: jedi, ipython-autotime\n",
            "Successfully installed ipython-autotime-0.3.1 jedi-0.19.0\n",
            "time: 428 µs (started: 2023-09-10 12:20:02 +00:00)\n"
          ]
        }
      ],
      "source": [
        "#Install bing-image-downloader\n",
        "!pip install bing-image-downloader\n",
        "#to get execution time for running each cell\n",
        "!pip install ipython-autotime\n",
        "%load_ext autotime"
      ]
    },
    {
      "cell_type": "code",
      "source": [
        "#Create a folder directory called images\n",
        "!mkdir images"
      ],
      "metadata": {
        "colab": {
          "base_uri": "https://localhost:8080/"
        },
        "id": "dzLn6fhmLR7p",
        "outputId": "2568b0a2-4534-41ee-d0bb-ce59f0b051c0"
      },
      "execution_count": null,
      "outputs": [
        {
          "output_type": "stream",
          "name": "stdout",
          "text": [
            "time: 106 ms (started: 2023-09-10 12:20:02 +00:00)\n"
          ]
        }
      ]
    },
    {
      "cell_type": "code",
      "source": [
        "from bing_image_downloader import downloader\n",
        "#Download first class of images\n",
        "downloader.download('pretty sunflower', #query string to be searched\n",
        "                    limit = 40, # number of images to download\n",
        "                    output_dir = 'images', # name of output directory to save the images\n",
        "                    adult_filter_off= True) #enable adult filtration"
      ],
      "metadata": {
        "colab": {
          "base_uri": "https://localhost:8080/"
        },
        "id": "Pnki8Y94Lk_Y",
        "outputId": "5b622b95-8eb9-4a32-ec9b-55b23ca11207"
      },
      "execution_count": null,
      "outputs": [
        {
          "output_type": "stream",
          "name": "stdout",
          "text": [
            "[%] Downloading Images to /content/images/pretty sunflower\n",
            "\n",
            "\n",
            "[!!]Indexing page: 1\n",
            "\n",
            "[%] Indexed 35 Images on Page 1.\n",
            "\n",
            "===============================================\n",
            "\n",
            "[%] Downloading Image #1 from https://www.10wallpaper.com/wallpaper/2560x1440/1802/Pretty_sunflower_flowers_plant_closeup_2560x1440.jpg\n",
            "[%] File Downloaded !\n",
            "\n",
            "[%] Downloading Image #2 from https://preppywallpapers.com/wp-content/uploads/2019/08/Sunflower-iPhone-Wallpapers.jpg\n",
            "[%] File Downloaded !\n",
            "\n",
            "[%] Downloading Image #3 from http://s1.picswalls.com/wallpapers/2014/07/17/free-sunflower-wallpaper_110754619_53.jpg\n",
            "[%] File Downloaded !\n",
            "\n",
            "[%] Downloading Image #4 from https://www.wallpapers13.com/wp-content/uploads/2015/12/Sunflower-Field-Wallpaper-Beautiful-Flowers-Pictures-Sunflower-Field-Wallpaper.jpg\n",
            "[%] File Downloaded !\n",
            "\n",
            "[%] Downloading Image #5 from http://travelikealocalvt.com/wp-content/uploads/2014/10/sunflower-963x1024.jpg\n",
            "[%] File Downloaded !\n",
            "\n",
            "[%] Downloading Image #6 from https://preppywallpapers.com/wp-content/uploads/2019/08/Sunflower-iPhone-Wallpaper-6.jpg\n",
            "[%] File Downloaded !\n",
            "\n",
            "[%] Downloading Image #7 from http://4.bp.blogspot.com/-Uh1HTy66p7I/TkY6vYCvWjI/AAAAAAAAD0c/ny_MXcFowLE/s1600/sunflower_wallpaper_2069.JPG\n",
            "[%] File Downloaded !\n",
            "\n",
            "[%] Downloading Image #8 from http://www.wallpaperbetter.com/wallpaper/555/59/732/beautiful-sunflowers-field-2K-wallpaper.jpg\n",
            "[%] File Downloaded !\n",
            "\n",
            "[%] Downloading Image #9 from http://2.bp.blogspot.com/-705wa8lFu_E/T2ZbNon9XcI/AAAAAAAAArU/CWNuPFDrY4Q/s1600/sunflower1.jpg\n",
            "[%] File Downloaded !\n",
            "\n",
            "[%] Downloading Image #10 from http://4.bp.blogspot.com/_W5lGWFz2VV4/TK5PqUu-ZTI/AAAAAAAAA-Q/rQXb9VnKUDc/s1600/_MG_3422+copy.jpg\n",
            "[%] File Downloaded !\n",
            "\n",
            "[%] Downloading Image #11 from https://external-preview.redd.it/19pzivrmy-sqMDGtG4WPe9STst_kGxmN9nWlHDAo3Ls.jpg?auto=webp&amp;s=946c9c34be43ae61a64ce6708c84624988182b29\n",
            "[Error]Invalid image, not saving https://external-preview.redd.it/19pzivrmy-sqMDGtG4WPe9STst_kGxmN9nWlHDAo3Ls.jpg?auto=webp&amp;s=946c9c34be43ae61a64ce6708c84624988182b29\n",
            "\n",
            "[!] Issue getting: https://external-preview.redd.it/19pzivrmy-sqMDGtG4WPe9STst_kGxmN9nWlHDAo3Ls.jpg?auto=webp&amp;s=946c9c34be43ae61a64ce6708c84624988182b29\n",
            "[!] Error:: Invalid image, not saving https://external-preview.redd.it/19pzivrmy-sqMDGtG4WPe9STst_kGxmN9nWlHDAo3Ls.jpg?auto=webp&amp;s=946c9c34be43ae61a64ce6708c84624988182b29\n",
            "\n",
            "[%] Downloading Image #11 from https://free4kwallpapers.com/uploads/originals/2020/11/08/a-pretty-sunflower.-shot-on-oneplus-pro-wallpaper_.jpg\n",
            "[%] File Downloaded !\n",
            "\n",
            "[%] Downloading Image #12 from https://geeglenews.com/wp-content/uploads/2016/06/beautiful-sunflower-wallpapers-9.jpg\n",
            "[%] File Downloaded !\n",
            "\n",
            "[%] Downloading Image #13 from http://fullhdwall.com/wp-content/uploads/2020/01/Beautiful-Sunflower.jpg\n",
            "[%] File Downloaded !\n",
            "\n",
            "[%] Downloading Image #14 from http://www.flowerpicturegallery.com/d/542-1/pretty+sunflower.jpg\n",
            "[%] File Downloaded !\n",
            "\n",
            "[%] Downloading Image #15 from https://www.shutterbug.com/images/photo_post/[uid]/N9010100_mod4.jpg\n",
            "[%] File Downloaded !\n",
            "\n",
            "[%] Downloading Image #16 from http://4.bp.blogspot.com/-EvQYk5Z2ISQ/TV1Y6C9VAlI/AAAAAAAAADA/0PviOUYUjU8/s1600/Sunflower.jpg\n",
            "[%] File Downloaded !\n",
            "\n",
            "[%] Downloading Image #17 from http://s1.picswalls.com/wallpapers/2014/07/17/sunflower-wallpaper-hd_110757863_53.jpg\n",
            "[%] File Downloaded !\n",
            "\n",
            "[%] Downloading Image #18 from https://wallsdesk.com/wp-content/uploads/2017/01/Sunflower-HD-Background-.jpg\n",
            "[%] File Downloaded !\n",
            "\n",
            "[%] Downloading Image #19 from http://1.bp.blogspot.com/-xIkAesKxBLA/TkY6hunS5II/AAAAAAAAD0I/S7uVZX1qf-4/s1600/sunflower_wallpaper_2064.jpg\n",
            "[%] File Downloaded !\n",
            "\n",
            "[%] Downloading Image #20 from http://wallsdesk.com/wp-content/uploads/2017/01/Sunflower-HD-Desktop.jpg\n",
            "[%] File Downloaded !\n",
            "\n",
            "[%] Downloading Image #21 from https://images.pexels.com/photos/1169084/pexels-photo-1169084.jpeg?cs=srgb&amp;dl=nature-sunny-flowers-1169084.jpg&amp;fm=jpg\n",
            "[%] File Downloaded !\n",
            "\n",
            "[%] Downloading Image #22 from http://www.fabiovisentin.com/photography/photo/4/sun-flower_01846.jpg\n",
            "[%] File Downloaded !\n",
            "\n",
            "[%] Downloading Image #23 from https://i.pinimg.com/originals/9c/02/5b/9c025b5c0a26aff3da57515b357493c8.jpg\n",
            "[%] File Downloaded !\n",
            "\n",
            "[%] Downloading Image #24 from https://3.bp.blogspot.com/-XpTUOHTbx8g/Ucd8U8Azp2I/AAAAAAAABPU/zzJA73GCrvw/s1600/2-pretty-sunflower-blossoms.jpg\n",
            "[%] File Downloaded !\n",
            "\n",
            "[%] Downloading Image #25 from http://1.bp.blogspot.com/-S8_LPmr0LCg/UNn7RQRoEFI/AAAAAAAATJ8/xnDLf_HbCDY/s0/beautiful-sunflowers-1920x1080.jpg\n",
            "[%] File Downloaded !\n",
            "\n",
            "[%] Downloading Image #26 from https://img.sunset02.com/sites/default/files/image/royalflush1.jpg\n",
            "[%] File Downloaded !\n",
            "\n",
            "[%] Downloading Image #27 from https://2.bp.blogspot.com/-BK3D580h0T4/TlAzksARFuI/AAAAAAAAlm8/TxV8gv7lp7s/s1600/DSC_0036.JPG\n",
            "[%] File Downloaded !\n",
            "\n",
            "[%] Downloading Image #28 from http://www.fabiovisentin.com/photography/photo/4/sun-flower_01828.jpg\n",
            "[%] File Downloaded !\n",
            "\n",
            "[%] Downloading Image #29 from https://patchoguearts.org/wp-content/uploads/Pretty-Sunflower.jpg\n",
            "[%] File Downloaded !\n",
            "\n",
            "[%] Downloading Image #30 from http://s1.picswalls.com/wallpapers/2014/07/17/sunflower-hd_110757516_53.jpg\n",
            "[%] File Downloaded !\n",
            "\n",
            "[%] Downloading Image #31 from https://gardentabs.com/wp-content/uploads/2020/05/Sunflower-field-in-the-Midwest-in-full-bloom-at-sunset.jpg\n",
            "[%] File Downloaded !\n",
            "\n",
            "[%] Downloading Image #32 from http://upload.wikimedia.org/wikipedia/commons/b/b1/Sunflowers_in_field.jpg\n",
            "[%] File Downloaded !\n",
            "\n",
            "[%] Downloading Image #33 from http://3.bp.blogspot.com/-kFLI6jc8tWY/TkY62KWkA3I/AAAAAAAAD0o/IG-GcvSZnt0/s1600/sunflower_wallpaper_2072.jpg\n",
            "[%] File Downloaded !\n",
            "\n",
            "[%] Downloading Image #34 from https://images7.alphacoders.com/903/903473.jpg\n",
            "[%] File Downloaded !\n",
            "\n",
            "\n",
            "\n",
            "[!!]Indexing page: 2\n",
            "\n",
            "[%] Indexed 35 Images on Page 2.\n",
            "\n",
            "===============================================\n",
            "\n",
            "[%] Downloading Image #35 from https://wallpaperset.com/w/full/6/1/2/190995.jpg\n",
            "[%] File Downloaded !\n",
            "\n",
            "[%] Downloading Image #36 from https://images6.alphacoders.com/416/thumb-1920-416350.jpg\n",
            "[%] File Downloaded !\n",
            "\n",
            "[%] Downloading Image #37 from https://i.pinimg.com/originals/77/e6/af/77e6af5c9881e58ce99d378640e17173.jpg\n",
            "[%] File Downloaded !\n",
            "\n",
            "[%] Downloading Image #38 from https://i.pinimg.com/originals/bc/f7/52/bcf752b5a8b3af49039c9c10e820cbc4.jpg\n",
            "[%] File Downloaded !\n",
            "\n",
            "[%] Downloading Image #39 from https://wallsdesk.com/wp-content/uploads/2017/01/Sunflower-HD-Desktop.jpg\n",
            "[%] File Downloaded !\n",
            "\n",
            "[%] Downloading Image #40 from http://1.bp.blogspot.com/-St6htmxykp0/Ucx54T74MKI/AAAAAAAAWgs/7lY3rxubt1Y/s1280/Sunflowers+Desktop+Wallpapers+%25284%2529.jpg\n",
            "[%] File Downloaded !\n",
            "\n",
            "\n",
            "\n",
            "[%] Done. Downloaded 40 images.\n",
            "time: 39.9 s (started: 2023-09-10 12:20:02 +00:00)\n"
          ]
        }
      ]
    },
    {
      "cell_type": "code",
      "source": [
        "#Download second class of images\n",
        "downloader.download('tesla car', #query string to be searched\n",
        "                    limit = 40, # number of images to download\n",
        "                    output_dir = 'images', # name of output directory to save the images\n",
        "                    adult_filter_off= True) #enable adult filtration"
      ],
      "metadata": {
        "colab": {
          "base_uri": "https://localhost:8080/"
        },
        "id": "CuFU0pMWMpIV",
        "outputId": "a9af8211-6b7e-4245-c74e-d4103b98ad06"
      },
      "execution_count": null,
      "outputs": [
        {
          "output_type": "stream",
          "name": "stdout",
          "text": [
            "[%] Downloading Images to /content/images/tesla car\n",
            "\n",
            "\n",
            "[!!]Indexing page: 1\n",
            "\n",
            "[%] Indexed 35 Images on Page 1.\n",
            "\n",
            "===============================================\n",
            "\n",
            "[%] Downloading Image #1 from https://starrluxurycars.com/wp-content/uploads/2019/01/TESBG.jpg\n",
            "[%] File Downloaded !\n",
            "\n",
            "[%] Downloading Image #2 from http://www.hdcarwallpapers.com/walls/tesla_roadster_sports_car-wide.jpg\n",
            "[%] File Downloaded !\n",
            "\n",
            "[%] Downloading Image #3 from http://static1.businessinsider.com/image/57756a308d3eae2d51880517-1920/key fobmp400011612still005.png\n",
            "[!] Issue getting: http://static1.businessinsider.com/image/57756a308d3eae2d51880517-1920/key fobmp400011612still005.png\n",
            "[!] Error:: URL can't contain control characters. '/image/57756a308d3eae2d51880517-1920/key fobmp400011612still005.png' (found at least ' ')\n",
            "[%] Downloading Image #3 from http://4.bp.blogspot.com/-YwNv6zaieOY/UZPHP1EIL6I/AAAAAAAAAus/341bHpb34WU/s1600/tesla+model+s+65.jpg\n",
            "[%] File Downloaded !\n",
            "\n",
            "[%] Downloading Image #4 from https://cdni.autocarindia.com/ExtraImages/20141013125258_teslamodelsstandard1.jpg\n",
            "[%] File Downloaded !\n",
            "\n",
            "[%] Downloading Image #5 from http://i0.wp.com/cleantechnica.com/files/2015/11/Tesla-copy-e1447935789641.jpg\n",
            "[%] File Downloaded !\n",
            "\n",
            "[%] Downloading Image #6 from https://autos.hamariweb.com/images/carimages/BBscgGI.jpg\n",
            "[%] File Downloaded !\n",
            "\n",
            "[%] Downloading Image #7 from https://s1.cdn.autoevolution.com/images/gallery/TESLA-MOTORS-Model-S-4693_71.jpg\n",
            "[%] File Downloaded !\n",
            "\n",
            "[%] Downloading Image #8 from https://www.alphr.com/wp-content/uploads/2016/04/tesla_model_s_hero-1980x1114.jpg\n",
            "[%] File Downloaded !\n",
            "\n",
            "[%] Downloading Image #9 from https://cdn.motor1.com/images/mgl/OjmPo/s1/tesla-model-s-render.jpg\n",
            "[Error]Invalid image, not saving https://cdn.motor1.com/images/mgl/OjmPo/s1/tesla-model-s-render.jpg\n",
            "\n",
            "[!] Issue getting: https://cdn.motor1.com/images/mgl/OjmPo/s1/tesla-model-s-render.jpg\n",
            "[!] Error:: Invalid image, not saving https://cdn.motor1.com/images/mgl/OjmPo/s1/tesla-model-s-render.jpg\n",
            "\n",
            "[%] Downloading Image #9 from http://bestride.com/wp-content/uploads/2016/11/Tesla-Model-S.jpg\n",
            "[!] Issue getting: http://bestride.com/wp-content/uploads/2016/11/Tesla-Model-S.jpg\n",
            "[!] Error:: HTTP Error 502: Bad Gateway\n",
            "[%] Downloading Image #9 from http://s3.amazonaws.com/digitaltrends-uploads-prod/2016/09/tesla-model-s-threebatwo.jpg\n",
            "[%] File Downloaded !\n",
            "\n",
            "[%] Downloading Image #10 from http://s3.amazonaws.com/digitaltrends-uploads-prod/2016/12/History-of-Tesla-Motors.jpg\n",
            "[%] File Downloaded !\n",
            "\n",
            "[%] Downloading Image #11 from https://i0.wp.com/www.luxuriousmagazine.com/wp-content/uploads/2015/07/McKnight-Tesla-main.jpg\n",
            "[%] File Downloaded !\n",
            "\n",
            "[%] Downloading Image #12 from http://www.blogcdn.com/www.autoblog.com/media/2012/09/03-2012-tesla-model-s-fd-1347336750.jpg\n",
            "[!] Issue getting: http://www.blogcdn.com/www.autoblog.com/media/2012/09/03-2012-tesla-model-s-fd-1347336750.jpg\n",
            "[!] Error:: <urlopen error [Errno -2] Name or service not known>\n",
            "[%] Downloading Image #12 from https://s1.ibtimes.com/sites/www.ibtimes.com/files/styles/embed/public/2019/01/10/tesla_0.jpg\n",
            "[!] Issue getting: https://s1.ibtimes.com/sites/www.ibtimes.com/files/styles/embed/public/2019/01/10/tesla_0.jpg\n",
            "[!] Error:: HTTP Error 504: Gateway Timeout\n",
            "[%] Downloading Image #12 from https://img.mobygeek.com/resize/730x-/2020/07/08/tesla-car-e2cd.jpg\n",
            "[%] File Downloaded !\n",
            "\n",
            "[%] Downloading Image #13 from http://brightcove.vo.llnwd.net/e1/pd/1078702682/1078702682_4826469825001_1604CRO-Tesla-Model-3-Announcement-StillB.jpg?pubId=1078702682\n",
            "[!] Issue getting: http://brightcove.vo.llnwd.net/e1/pd/1078702682/1078702682_4826469825001_1604CRO-Tesla-Model-3-Announcement-StillB.jpg?pubId=1078702682\n",
            "[!] Error:: HTTP Error 400: Bad Request\n",
            "[%] Downloading Image #13 from https://carwow-uk-wp-1.imgix.net/tesla-ev-hatchback-rear-1.jpg?auto=format&amp;cs=tinysrgb&amp;fit=clip&amp;ixlib=rb-1.1.0&amp;q=60&amp;w=1920\n",
            "[%] File Downloaded !\n",
            "\n",
            "[%] Downloading Image #14 from http://s1.cdn.autoevolution.com/images/gallery/TESLA-MOTORS-Model-S-4693_64.jpg\n",
            "[%] File Downloaded !\n",
            "\n",
            "[%] Downloading Image #15 from https://s1.cdn.autoevolution.com/images/gallery/TESLA-MOTORS-Model-S-4693_89.jpg\n",
            "[%] File Downloaded !\n",
            "\n",
            "[%] Downloading Image #16 from http://cdn.pursuitist.com/wp-content/uploads/2012/11/tesla_model_s_official_new.jpg\n",
            "[!] Issue getting: http://cdn.pursuitist.com/wp-content/uploads/2012/11/tesla_model_s_official_new.jpg\n",
            "[!] Error:: HTTP Error 404: Not Found\n",
            "[%] Downloading Image #16 from http://carwallpapersfordesktop.org/wallpaper/2015/05/tesla-motors-nikola-tesla-33-car-hd-wallpaper.jpg\n",
            "[%] File Downloaded !\n",
            "\n",
            "[%] Downloading Image #17 from https://www.gannett-cdn.com/-mm-/e8d4eff885dd6386f1bf5f02f8bd0fc66e7b3837/c=8-0-3831-2160/local/-/media/2017/11/17/USATODAY/USATODAY/636465259366315208-RoadOnRoad.jpg?width=3200&amp;height=1680&amp;fit=crop\n",
            "[%] File Downloaded !\n",
            "\n",
            "[%] Downloading Image #18 from https://cdn.dnaindia.com/sites/default/files/styles/full/public/2017/01/03/534972-tesla-model-s-wikimedia.jpg\n",
            "[%] File Downloaded !\n",
            "\n",
            "[%] Downloading Image #19 from https://mediacloud.carbuyer.co.uk/image/private/s--W8H-IrW1--/v1579657958/carbuyer/2019/10/01_41.jpg\n",
            "[%] File Downloaded !\n",
            "\n",
            "[%] Downloading Image #20 from http://ecomodder.com/blog/wp-content/uploads/2009/03/model-s-official-6b.jpg\n",
            "[%] File Downloaded !\n",
            "\n",
            "[%] Downloading Image #21 from https://newwallpapershd.com/wp-content/uploads/2018/09/X-model-Tesla-Wallpapers-free-White-Car.jpg\n",
            "[%] File Downloaded !\n",
            "\n",
            "[%] Downloading Image #22 from https://fm.cnbc.com/applications/cnbc.com/resources/img/editorial/2018/05/21/105221578-GettyImages-910879230.1910x1000.jpg\n",
            "[%] File Downloaded !\n",
            "\n",
            "[%] Downloading Image #23 from http://s3.caradvice.com.au/wp-content/uploads/2015/11/2016_tesla_model-x_showroom2.jpg\n",
            "[%] File Downloaded !\n",
            "\n",
            "[%] Downloading Image #24 from https://hips.hearstapps.com/hmg-prod.s3.amazonaws.com/images/img-4196-jpg-1594364992.jpg\n",
            "[%] File Downloaded !\n",
            "\n",
            "[%] Downloading Image #25 from http://www.thedetroitbureau.com/wp-content/uploads/2010/05/Tesla-Model-S-side.jpg\n",
            "[%] File Downloaded !\n",
            "\n",
            "[%] Downloading Image #26 from https://www.teslarati.com/wp-content/uploads/2021/02/tesla-25k-car-1-1536x804.jpeg\n",
            "[%] File Downloaded !\n",
            "\n",
            "[%] Downloading Image #27 from https://cdn.cultofmac.com/wp-content/uploads/2016/06/Teslaforpost.jpg\n",
            "[%] File Downloaded !\n",
            "\n",
            "[%] Downloading Image #28 from https://2.bp.blogspot.com/-_Kt5Kh42P3U/Vg8YxAwQ3yI/AAAAAAAATFM/d5tz6vPKDfA/s640/Tesla-Model-S.jpg\n",
            "[%] File Downloaded !\n",
            "\n",
            "\n",
            "\n",
            "[!!]Indexing page: 2\n",
            "\n",
            "[%] Indexed 35 Images on Page 2.\n",
            "\n",
            "===============================================\n",
            "\n",
            "[%] Downloading Image #29 from https://media.autoexpress.co.uk/image/private/s--3XzRB3yS--/v1565798347/autoexpress/2019/08/04_7.jpg\n",
            "[%] File Downloaded !\n",
            "\n",
            "[%] Downloading Image #30 from https://media.autoexpress.co.uk/image/private/s--w3mCgRM3--/v1565281565/autoexpress/2019/08/dsc_9204.jpg\n",
            "[%] File Downloaded !\n",
            "\n",
            "[%] Downloading Image #31 from https://www.gannett-cdn.com/-mm-/07540a442f5e5c39b52fe9c71637b02a27e3238e/c=1046-568-3240-1807/local/-/media/2017/11/17/USATODAY/USATODAY/636464785351552702-Roadster-Rear-34.jpg?width=3200&amp;height=1680&amp;fit=crop\n",
            "[%] File Downloaded !\n",
            "\n",
            "[%] Downloading Image #32 from https://s1.cdn.autoevolution.com/images/gallery/TESLA-MOTORS-Model-S-4693_64.jpg\n",
            "[%] File Downloaded !\n",
            "\n",
            "[%] Downloading Image #33 from https://cdn.motor1.com/images/mgl/y8rKe/s1/tesla-roadster.jpg\n",
            "[Error]Invalid image, not saving https://cdn.motor1.com/images/mgl/y8rKe/s1/tesla-roadster.jpg\n",
            "\n",
            "[!] Issue getting: https://cdn.motor1.com/images/mgl/y8rKe/s1/tesla-roadster.jpg\n",
            "[!] Error:: Invalid image, not saving https://cdn.motor1.com/images/mgl/y8rKe/s1/tesla-roadster.jpg\n",
            "\n",
            "[%] Downloading Image #33 from https://ag-log.o.auroraobjects.eu/03-2014/unpluggedtesla/1.jpg?last_change=1395847598\n",
            "[%] File Downloaded !\n",
            "\n",
            "[%] Downloading Image #34 from http://www.hdcarwallpapers.com/walls/tesla_model_s_cars-wide.jpg\n",
            "[%] File Downloaded !\n",
            "\n",
            "[%] Downloading Image #35 from https://car-images.bauersecure.com/pagefiles/4601/tesla_model_s.jpg\n",
            "[%] File Downloaded !\n",
            "\n",
            "[%] Downloading Image #36 from http://3.bp.blogspot.com/-VoioBfEGQ4I/US60kT5s77I/AAAAAAAAAEE/Su3FVq5CugQ/s1600/Tesla-Roadster.jpg\n",
            "[%] File Downloaded !\n",
            "\n",
            "[%] Downloading Image #37 from https://cdn.motor1.com/images/mgl/Yp07j/s1/tesla-pricing-lead.jpg\n",
            "[Error]Invalid image, not saving https://cdn.motor1.com/images/mgl/Yp07j/s1/tesla-pricing-lead.jpg\n",
            "\n",
            "[!] Issue getting: https://cdn.motor1.com/images/mgl/Yp07j/s1/tesla-pricing-lead.jpg\n",
            "[!] Error:: Invalid image, not saving https://cdn.motor1.com/images/mgl/Yp07j/s1/tesla-pricing-lead.jpg\n",
            "\n",
            "[%] Downloading Image #37 from http://3.bp.blogspot.com/-wedruJW7bro/U4dMHLq0sSI/AAAAAAAAKxI/5Ko3eq6dTvo/s1600/TT.jpg\n",
            "[%] File Downloaded !\n",
            "\n",
            "[%] Downloading Image #38 from https://cdn.arstechnica.net/wp-content/uploads/sites/3/2015/06/Tesla_Model_X_front_view_16042113157.jpg\n",
            "[%] File Downloaded !\n",
            "\n",
            "[%] Downloading Image #39 from http://1.bp.blogspot.com/-oVgZ-NGISMI/UZPHN-CUNJI/AAAAAAAAAuk/zWIiIWq_wIk/s1600/tesla+model+s+wallpaper.jpg\n",
            "[%] File Downloaded !\n",
            "\n",
            "[%] Downloading Image #40 from http://3.bp.blogspot.com/-YQYwv5TSfqw/T40VC2Iag8I/AAAAAAAAEs0/vHzg2OgsMMw/s1600/Sport+Car+Garage_Tesla+Model+X_2014_1.jpg\n",
            "[%] File Downloaded !\n",
            "\n",
            "\n",
            "\n",
            "[%] Done. Downloaded 40 images.\n",
            "time: 25.6 s (started: 2023-09-10 12:20:42 +00:00)\n"
          ]
        }
      ]
    },
    {
      "cell_type": "code",
      "source": [
        "#Download third class of images\n",
        "downloader.download('glass of water', #query string to be searched\n",
        "                    limit = 40, # number of images to download\n",
        "                    output_dir = 'images', # name of output directory to save the images\n",
        "                    adult_filter_off= True) #enable adult filtration"
      ],
      "metadata": {
        "colab": {
          "base_uri": "https://localhost:8080/"
        },
        "id": "Q3-cyuWzOK3u",
        "outputId": "49d45655-84b6-4c34-a409-4df9f47bf819"
      },
      "execution_count": null,
      "outputs": [
        {
          "output_type": "stream",
          "name": "stdout",
          "text": [
            "[%] Downloading Images to /content/images/glass of water\n",
            "\n",
            "\n",
            "[!!]Indexing page: 1\n",
            "\n",
            "[%] Indexed 35 Images on Page 1.\n",
            "\n",
            "===============================================\n",
            "\n",
            "[%] Downloading Image #1 from http://blog.watershed.net/wp-content/uploads/2013/03/water_glass.jpg\n",
            "[%] File Downloaded !\n",
            "\n",
            "[%] Downloading Image #2 from http://fitnessjockey.com/wp-content/uploads/2017/03/water-glass.jpg\n",
            "[%] File Downloaded !\n",
            "\n",
            "[%] Downloading Image #3 from https://www.healthstandnutrition.com/wp-content/uploads/2015/09/glass-of-water.jpg\n",
            "[!] Issue getting: https://www.healthstandnutrition.com/wp-content/uploads/2015/09/glass-of-water.jpg\n",
            "[!] Error:: HTTP Error 502: Bad Gateway\n",
            "[%] Downloading Image #3 from http://openparachute.files.wordpress.com/2012/03/glass-water-3.jpg\n",
            "[%] File Downloaded !\n",
            "\n",
            "[%] Downloading Image #4 from http://www.dabistro.restaurant/wp-content/uploads/2014/09/glass-of-water.png\n",
            "[%] File Downloaded !\n",
            "\n",
            "[%] Downloading Image #5 from https://p0.pxfuel.com/preview/243/121/215/glass-of-water-water-glass-thirst.jpg\n",
            "[%] File Downloaded !\n",
            "\n",
            "[%] Downloading Image #6 from http://4.bp.blogspot.com/-ELEKfMPM2uc/TZIv1a4q07I/AAAAAAAAAA0/udvRcl4NLyA/s1600/GLASS_OF_WATER.jpg\n",
            "[%] File Downloaded !\n",
            "\n",
            "[%] Downloading Image #7 from https://upload.wikimedia.org/wikipedia/commons/1/11/Glass-of-water.jpg\n",
            "[%] File Downloaded !\n",
            "\n",
            "[%] Downloading Image #8 from http://blogs.oregonstate.edu/mufood/files/2013/04/Glass-of-Water-1.jpg\n",
            "[%] File Downloaded !\n",
            "\n",
            "[%] Downloading Image #9 from https://thumbs.dreamstime.com/b/glass-water-7017487.jpg\n",
            "[%] File Downloaded !\n",
            "\n",
            "[%] Downloading Image #10 from http://www.ceap.org/wp-content/uploads/2015/01/glass-of-water.jpg\n",
            "[!] Issue getting: http://www.ceap.org/wp-content/uploads/2015/01/glass-of-water.jpg\n",
            "[!] Error:: HTTP Error 403: Forbidden\n",
            "[%] Downloading Image #10 from http://stylishspoon.com/wp-content/uploads/2014/12/bkr-water-bottle.jpg\n",
            "[%] File Downloaded !\n",
            "\n",
            "[%] Downloading Image #11 from http://clipart-library.com/new_gallery/74-744357_water-glass-drinking-water-pint-glass.png\n",
            "[%] File Downloaded !\n",
            "\n",
            "[%] Downloading Image #12 from http://www.shakahariblog.com/wp-content/uploads/2014/09/A-Glass-Of-Water-1.jpg\n",
            "[!] Issue getting: http://www.shakahariblog.com/wp-content/uploads/2014/09/A-Glass-Of-Water-1.jpg\n",
            "[!] Error:: Remote end closed connection without response\n",
            "[%] Downloading Image #12 from http://www.themoderngladiator.com/wp-content/uploads/2013/11/glass-of-water.jpg\n",
            "[%] File Downloaded !\n",
            "\n",
            "[%] Downloading Image #13 from https://feelaliveuk.files.wordpress.com/2016/01/shutterstock_185433806-glass-of-water-jan16.jpg\n",
            "[%] File Downloaded !\n",
            "\n",
            "[%] Downloading Image #14 from http://www.publicdomainpictures.net/pictures/40000/velka/glass-of-water.jpg\n",
            "[Error]Invalid image, not saving http://www.publicdomainpictures.net/pictures/40000/velka/glass-of-water.jpg\n",
            "\n",
            "[!] Issue getting: http://www.publicdomainpictures.net/pictures/40000/velka/glass-of-water.jpg\n",
            "[!] Error:: Invalid image, not saving http://www.publicdomainpictures.net/pictures/40000/velka/glass-of-water.jpg\n",
            "\n",
            "[%] Downloading Image #14 from https://www.publicdomainpictures.net/pictures/30000/velka/water-glass.jpg\n",
            "[Error]Invalid image, not saving https://www.publicdomainpictures.net/pictures/30000/velka/water-glass.jpg\n",
            "\n",
            "[!] Issue getting: https://www.publicdomainpictures.net/pictures/30000/velka/water-glass.jpg\n",
            "[!] Error:: Invalid image, not saving https://www.publicdomainpictures.net/pictures/30000/velka/water-glass.jpg\n",
            "\n",
            "[%] Downloading Image #14 from http://fc09.deviantart.net/fs15/f/2007/115/b/b/Glass_of_water_1_by_photohouse.jpg\n",
            "[%] File Downloaded !\n",
            "\n",
            "[%] Downloading Image #15 from http://3.bp.blogspot.com/-BFiAifTZx8k/TyX9qh8LDhI/AAAAAAAAAH0/yfcx6UOGwxk/s1600/glass-of-water.jpg\n",
            "[%] File Downloaded !\n",
            "\n",
            "[%] Downloading Image #16 from http://simplegoodhealth.com/wp-content/uploads/2013/01/glassofwater.jpg\n",
            "[%] File Downloaded !\n",
            "\n",
            "[%] Downloading Image #17 from http://upaae.com/wp-content/uploads/2016/12/water-glass.jpg\n",
            "[%] File Downloaded !\n",
            "\n",
            "[%] Downloading Image #18 from https://c.pxhere.com/photos/46/64/glass_water_blue_clear_mirroring_still_life-1180661.jpg!d\n",
            "[%] File Downloaded !\n",
            "\n",
            "[%] Downloading Image #19 from http://www.lanavaughan.com/wp-content/uploads/2012/02/glass-of-water.jpg\n",
            "[%] File Downloaded !\n",
            "\n",
            "[%] Downloading Image #20 from http://merelynne.com/wp-content/uploads/2015/07/Water-Glass.jpg\n",
            "[%] File Downloaded !\n",
            "\n",
            "[%] Downloading Image #21 from https://faithandsciencemeet.com/wp-content/uploads/2019/04/AdobeStock_28539972-1024x552.jpeg\n",
            "[%] File Downloaded !\n",
            "\n",
            "[%] Downloading Image #22 from http://curezone.com/upload/_E_F_Forums/Fasting/glass_of_water_0808_lg_10661967_c6O80CPI7U7J.jpg\n",
            "[%] File Downloaded !\n",
            "\n",
            "[%] Downloading Image #23 from http://dietandi.com/wp-content/uploads/2011/12/Glass-of-Water.jpg\n",
            "[%] File Downloaded !\n",
            "\n",
            "[%] Downloading Image #24 from https://upload.wikimedia.org/wikipedia/commons/7/7e/Glass_of_Water.JPG\n",
            "[%] File Downloaded !\n",
            "\n",
            "[%] Downloading Image #25 from https://www.sott.net/image/s1/38582/full/water_glass.jpg\n",
            "[%] File Downloaded !\n",
            "\n",
            "[%] Downloading Image #26 from http://courtneyegee.files.wordpress.com/2013/05/water-glass.jpg\n",
            "[Error]Invalid image, not saving http://courtneyegee.files.wordpress.com/2013/05/water-glass.jpg\n",
            "\n",
            "[!] Issue getting: http://courtneyegee.files.wordpress.com/2013/05/water-glass.jpg\n",
            "[!] Error:: Invalid image, not saving http://courtneyegee.files.wordpress.com/2013/05/water-glass.jpg\n",
            "\n",
            "[%] Downloading Image #26 from https://images.unsplash.com/photo-1548839140-29a749e1cf4d?ixlib=rb-1.2.1&amp;ixid=eyJhcHBfaWQiOjEyMDd9&amp;w=1000&amp;q=80\n",
            "[%] File Downloaded !\n",
            "\n",
            "[%] Downloading Image #27 from http://anti-agingmatters.com/wp-content/uploads/2016/12/glass-water.jpg\n",
            "[%] File Downloaded !\n",
            "\n",
            "[%] Downloading Image #28 from https://felixwong.com/gallery/images/g/glass_of_water.jpg\n",
            "[%] File Downloaded !\n",
            "\n",
            "[%] Downloading Image #29 from http://teachosaur.files.wordpress.com/2011/10/glass-of-water.jpg\n",
            "[%] File Downloaded !\n",
            "\n",
            "\n",
            "\n",
            "[!!]Indexing page: 2\n",
            "\n",
            "[%] Indexed 35 Images on Page 2.\n",
            "\n",
            "===============================================\n",
            "\n",
            "[%] Downloading Image #30 from http://static2.wikia.nocookie.net/__cb20120408000858/creepypasta/images/1/11/Glass-of-water.jpg\n",
            "[%] File Downloaded !\n",
            "\n",
            "[%] Downloading Image #31 from https://c.pxhere.com/photos/86/ac/glass_water_high_jumping_drops_blue_mirroring_gertr_nk-1180660.jpg!d\n",
            "[%] File Downloaded !\n",
            "\n",
            "[%] Downloading Image #32 from http://kellysluckyyou.com/wp-content/uploads/2011/09/glass-of-water.jpg\n",
            "[%] File Downloaded !\n",
            "\n",
            "[%] Downloading Image #33 from https://jupitercity.files.wordpress.com/2011/01/glass_of_water_350.jpg\n",
            "[Error]Invalid image, not saving https://jupitercity.files.wordpress.com/2011/01/glass_of_water_350.jpg\n",
            "\n",
            "[!] Issue getting: https://jupitercity.files.wordpress.com/2011/01/glass_of_water_350.jpg\n",
            "[!] Error:: Invalid image, not saving https://jupitercity.files.wordpress.com/2011/01/glass_of_water_350.jpg\n",
            "\n",
            "[%] Downloading Image #33 from https://4.bp.blogspot.com/-0bqXyeb1Aqw/VZ-Z4hpm9PI/AAAAAAAAANM/6V3ZisyGdZc/s1600/glass_of_water.jpg\n",
            "[%] File Downloaded !\n",
            "\n",
            "\n",
            "\n",
            "[!!]Indexing page: 3\n",
            "\n",
            "[%] Indexed 35 Images on Page 3.\n",
            "\n",
            "===============================================\n",
            "\n",
            "[%] Downloading Image #34 from http://writeouschicks.files.wordpress.com/2011/10/water-glass.jpg\n",
            "[Error]Invalid image, not saving http://writeouschicks.files.wordpress.com/2011/10/water-glass.jpg\n",
            "\n",
            "[!] Issue getting: http://writeouschicks.files.wordpress.com/2011/10/water-glass.jpg\n",
            "[!] Error:: Invalid image, not saving http://writeouschicks.files.wordpress.com/2011/10/water-glass.jpg\n",
            "\n",
            "\n",
            "\n",
            "[!!]Indexing page: 4\n",
            "\n",
            "[%] Indexed 35 Images on Page 4.\n",
            "\n",
            "===============================================\n",
            "\n",
            "[%] Downloading Image #34 from https://wakeup-world.com/wp-content/uploads/2013/06/Glass-of-water-Copy.jpg\n",
            "[%] File Downloaded !\n",
            "\n",
            "\n",
            "\n",
            "[!!]Indexing page: 5\n",
            "\n",
            "[%] Indexed 35 Images on Page 5.\n",
            "\n",
            "===============================================\n",
            "\n",
            "[%] Downloading Image #35 from https://www.photos-public-domain.com/wp-content/uploads/2011/02/glass-of-ice-water.jpg\n",
            "[%] File Downloaded !\n",
            "\n",
            "[%] Downloading Image #36 from https://www.publicdomainpictures.net/pictures/40000/velka/glass-of-water.jpg\n",
            "[Error]Invalid image, not saving https://www.publicdomainpictures.net/pictures/40000/velka/glass-of-water.jpg\n",
            "\n",
            "[!] Issue getting: https://www.publicdomainpictures.net/pictures/40000/velka/glass-of-water.jpg\n",
            "[!] Error:: Invalid image, not saving https://www.publicdomainpictures.net/pictures/40000/velka/glass-of-water.jpg\n",
            "\n",
            "[%] Downloading Image #36 from https://dinneranda.files.wordpress.com/2015/01/glass-of-water.jpg\n",
            "[Error]Invalid image, not saving https://dinneranda.files.wordpress.com/2015/01/glass-of-water.jpg\n",
            "\n",
            "[!] Issue getting: https://dinneranda.files.wordpress.com/2015/01/glass-of-water.jpg\n",
            "[!] Error:: Invalid image, not saving https://dinneranda.files.wordpress.com/2015/01/glass-of-water.jpg\n",
            "\n",
            "[%] Downloading Image #36 from http://3.bp.blogspot.com/-cNP_xG88a0U/UnJph1qpewI/AAAAAAAAeD4/92FHdnL8uho/s1600/glass_of_water_.jpg\n",
            "[%] File Downloaded !\n",
            "\n",
            "[%] Downloading Image #37 from https://www.tasteofhome.com/wp-content/uploads/2018/08/pouring-glass-of-water.jpg\n",
            "[%] File Downloaded !\n",
            "\n",
            "[%] Downloading Image #38 from http://jessaskin.com/wp-content/uploads/2012/09/glass_of_water.jpg\n",
            "[!] Issue getting: http://jessaskin.com/wp-content/uploads/2012/09/glass_of_water.jpg\n",
            "[!] Error:: HTTP Error 404: Not Found\n",
            "[%] Downloading Image #38 from https://images.freeimages.com/images/large-previews/87d/glass-of-water-1640027.jpg\n",
            "[%] File Downloaded !\n",
            "\n",
            "\n",
            "\n",
            "[!!]Indexing page: 6\n",
            "\n",
            "[%] Indexed 35 Images on Page 6.\n",
            "\n",
            "===============================================\n",
            "\n",
            "[%] Downloading Image #39 from http://stylesatlife.com/wp-content/uploads/2014/04/Glass-of-water1.jpg\n",
            "[%] File Downloaded !\n",
            "\n",
            "\n",
            "\n",
            "[!!]Indexing page: 7\n",
            "\n",
            "[%] Indexed 35 Images on Page 7.\n",
            "\n",
            "===============================================\n",
            "\n",
            "[%] Downloading Image #40 from http://4.bp.blogspot.com/-Z_e0VfsjJiE/TgyIceZicEI/AAAAAAAABSc/yNqKR2nbPfE/s1600/water_glass.jpg\n",
            "[%] File Downloaded !\n",
            "\n",
            "\n",
            "\n",
            "[%] Done. Downloaded 40 images.\n",
            "time: 25.3 s (started: 2023-09-10 12:21:07 +00:00)\n"
          ]
        }
      ]
    },
    {
      "cell_type": "markdown",
      "source": [
        "# Preprocessing"
      ],
      "metadata": {
        "id": "w3EUGqZCPuew"
      }
    },
    {
      "cell_type": "code",
      "source": [
        "#Import packages\n",
        "\n",
        "import os # operating system needed becuase navigating betwwen different folders\n",
        "import matplotlib.pyplot as plt # to display image\n",
        "import numpy as np # for numerical computing\n",
        "from skimage.io import imread # for reading images\n",
        "from skimage.transform import resize_local_mean # for resizing all images to be uniform (the same size) as required for ML\n",
        "from skimage.transform import resize\n"
      ],
      "metadata": {
        "colab": {
          "base_uri": "https://localhost:8080/"
        },
        "id": "2ROEdftOP_jg",
        "outputId": "65a21757-d002-46d9-838d-3d048700ea81"
      },
      "execution_count": null,
      "outputs": [
        {
          "output_type": "stream",
          "name": "stdout",
          "text": [
            "time: 1.26 s (started: 2023-09-10 12:21:33 +00:00)\n"
          ]
        }
      ]
    },
    {
      "cell_type": "code",
      "source": [
        "#Need to flatten the 2D matrix of images into a 1D array input\n",
        "#Convert 2D matrix to 1D vector using the flatten method\n",
        "\n",
        "#Create empty lists to store data\n",
        "target = [] #output classification\n",
        "images = [] # cannot be passed to ML model beucase 2D matrix\n",
        "flat_data = [] #data to be passed to ML model as 1D array\n",
        "\n",
        "datadir = '/content/images'\n",
        "categories =['pretty sunflower', 'tesla car', 'glass of water' ]\n",
        "\n",
        "#iterate through all data\n",
        "for category in categories:\n",
        "  class_num = categories.index(category) # label encoding the values to represent the classes as numbers 0,1,2\n",
        "  path = os.path.join(datadir,category) # create path to use all images\n",
        "  for img in os.listdir(path):\n",
        "    img_array = imread(os.path.join(path,img)) #values of all images\n",
        "\n",
        "    #Resize images\n",
        "    img_resized = resize(img_array,(150, 150,3 )) # Normalizes the values to be between 0 and 1\n",
        "    #Flatten images\n",
        "    flat_data.append(img_resized.flatten())\n",
        "\n",
        "    images.append(img_resized)\n",
        "    target.append(class_num)\n",
        "\n",
        "#Convert to numpy arrays\n",
        "flat_data = np.array(flat_data)\n",
        "target = np.array(target)\n",
        "images = np.array(images)\n",
        "#flat_data[0]"
      ],
      "metadata": {
        "colab": {
          "base_uri": "https://localhost:8080/"
        },
        "id": "Nb5vQfjAG8xB",
        "outputId": "adace8e8-92f7-457c-82be-439f8c6ed3ad"
      },
      "execution_count": null,
      "outputs": [
        {
          "output_type": "stream",
          "name": "stdout",
          "text": [
            "time: 2min 32s (started: 2023-09-10 12:21:34 +00:00)\n"
          ]
        }
      ]
    },
    {
      "cell_type": "markdown",
      "source": [
        "Train-Test Split"
      ],
      "metadata": {
        "id": "600_N7ieBepE"
      }
    },
    {
      "cell_type": "code",
      "source": [
        "#Train - Test Split Data\n",
        "from sklearn.model_selection import train_test_split\n",
        "x_train, x_test, y_train, y_test = train_test_split(flat_data,\n",
        "                                                    target,\n",
        "                                                    test_size=0.3,\n",
        "                                                    random_state=50)"
      ],
      "metadata": {
        "colab": {
          "base_uri": "https://localhost:8080/"
        },
        "id": "wiXMjz-EG8t-",
        "outputId": "4c663d69-d6dd-4e49-abd3-4a30bbe25e22"
      },
      "execution_count": null,
      "outputs": [
        {
          "output_type": "stream",
          "name": "stdout",
          "text": [
            "time: 268 ms (started: 2023-09-10 12:24:07 +00:00)\n"
          ]
        }
      ]
    },
    {
      "cell_type": "markdown",
      "source": [
        "- Using SVM Classification Model (Support vector machines) - Supervised learning method\n",
        "- Use GridSearchCV to select the best model parameters\n",
        "\n",
        "SVC Parameters for tuning the model:\n",
        "- Regularisation\n",
        "- Kernel\n",
        "- Gamma\n"
      ],
      "metadata": {
        "id": "hbGRilBRCcoG"
      }
    },
    {
      "cell_type": "code",
      "source": [
        "#Usign GridSearch CV to select the best parameters\n",
        "from sklearn.model_selection import GridSearchCV\n",
        "from sklearn import svm\n",
        "param_grid = [{'C':[1,10,100,1000],'kernel':['linear']},\n",
        "              {'C':[1,10,100,1000],'kernel':['rbf'], 'gamma':[0.001, 0.0001]}]\n",
        "\n",
        "svc = svm.SVC(probability=True)\n",
        "clf = GridSearchCV(svc,param_grid)\n",
        "# fit training data to model\n",
        "clf.fit(x_train, y_train)"
      ],
      "metadata": {
        "colab": {
          "base_uri": "https://localhost:8080/",
          "height": 136
        },
        "id": "fo_TiQSzC9Qy",
        "outputId": "f80bdc5d-8fb4-4d5a-be4d-dc49b5941877"
      },
      "execution_count": null,
      "outputs": [
        {
          "output_type": "execute_result",
          "data": {
            "text/plain": [
              "GridSearchCV(estimator=SVC(probability=True),\n",
              "             param_grid=[{'C': [1, 10, 100, 1000], 'kernel': ['linear']},\n",
              "                         {'C': [1, 10, 100, 1000], 'gamma': [0.001, 0.0001],\n",
              "                          'kernel': ['rbf']}])"
            ],
            "text/html": [
              "<style>#sk-container-id-1 {color: black;background-color: white;}#sk-container-id-1 pre{padding: 0;}#sk-container-id-1 div.sk-toggleable {background-color: white;}#sk-container-id-1 label.sk-toggleable__label {cursor: pointer;display: block;width: 100%;margin-bottom: 0;padding: 0.3em;box-sizing: border-box;text-align: center;}#sk-container-id-1 label.sk-toggleable__label-arrow:before {content: \"▸\";float: left;margin-right: 0.25em;color: #696969;}#sk-container-id-1 label.sk-toggleable__label-arrow:hover:before {color: black;}#sk-container-id-1 div.sk-estimator:hover label.sk-toggleable__label-arrow:before {color: black;}#sk-container-id-1 div.sk-toggleable__content {max-height: 0;max-width: 0;overflow: hidden;text-align: left;background-color: #f0f8ff;}#sk-container-id-1 div.sk-toggleable__content pre {margin: 0.2em;color: black;border-radius: 0.25em;background-color: #f0f8ff;}#sk-container-id-1 input.sk-toggleable__control:checked~div.sk-toggleable__content {max-height: 200px;max-width: 100%;overflow: auto;}#sk-container-id-1 input.sk-toggleable__control:checked~label.sk-toggleable__label-arrow:before {content: \"▾\";}#sk-container-id-1 div.sk-estimator input.sk-toggleable__control:checked~label.sk-toggleable__label {background-color: #d4ebff;}#sk-container-id-1 div.sk-label input.sk-toggleable__control:checked~label.sk-toggleable__label {background-color: #d4ebff;}#sk-container-id-1 input.sk-hidden--visually {border: 0;clip: rect(1px 1px 1px 1px);clip: rect(1px, 1px, 1px, 1px);height: 1px;margin: -1px;overflow: hidden;padding: 0;position: absolute;width: 1px;}#sk-container-id-1 div.sk-estimator {font-family: monospace;background-color: #f0f8ff;border: 1px dotted black;border-radius: 0.25em;box-sizing: border-box;margin-bottom: 0.5em;}#sk-container-id-1 div.sk-estimator:hover {background-color: #d4ebff;}#sk-container-id-1 div.sk-parallel-item::after {content: \"\";width: 100%;border-bottom: 1px solid gray;flex-grow: 1;}#sk-container-id-1 div.sk-label:hover label.sk-toggleable__label {background-color: #d4ebff;}#sk-container-id-1 div.sk-serial::before {content: \"\";position: absolute;border-left: 1px solid gray;box-sizing: border-box;top: 0;bottom: 0;left: 50%;z-index: 0;}#sk-container-id-1 div.sk-serial {display: flex;flex-direction: column;align-items: center;background-color: white;padding-right: 0.2em;padding-left: 0.2em;position: relative;}#sk-container-id-1 div.sk-item {position: relative;z-index: 1;}#sk-container-id-1 div.sk-parallel {display: flex;align-items: stretch;justify-content: center;background-color: white;position: relative;}#sk-container-id-1 div.sk-item::before, #sk-container-id-1 div.sk-parallel-item::before {content: \"\";position: absolute;border-left: 1px solid gray;box-sizing: border-box;top: 0;bottom: 0;left: 50%;z-index: -1;}#sk-container-id-1 div.sk-parallel-item {display: flex;flex-direction: column;z-index: 1;position: relative;background-color: white;}#sk-container-id-1 div.sk-parallel-item:first-child::after {align-self: flex-end;width: 50%;}#sk-container-id-1 div.sk-parallel-item:last-child::after {align-self: flex-start;width: 50%;}#sk-container-id-1 div.sk-parallel-item:only-child::after {width: 0;}#sk-container-id-1 div.sk-dashed-wrapped {border: 1px dashed gray;margin: 0 0.4em 0.5em 0.4em;box-sizing: border-box;padding-bottom: 0.4em;background-color: white;}#sk-container-id-1 div.sk-label label {font-family: monospace;font-weight: bold;display: inline-block;line-height: 1.2em;}#sk-container-id-1 div.sk-label-container {text-align: center;}#sk-container-id-1 div.sk-container {/* jupyter's `normalize.less` sets `[hidden] { display: none; }` but bootstrap.min.css set `[hidden] { display: none !important; }` so we also need the `!important` here to be able to override the default hidden behavior on the sphinx rendered scikit-learn.org. See: https://github.com/scikit-learn/scikit-learn/issues/21755 */display: inline-block !important;position: relative;}#sk-container-id-1 div.sk-text-repr-fallback {display: none;}</style><div id=\"sk-container-id-1\" class=\"sk-top-container\"><div class=\"sk-text-repr-fallback\"><pre>GridSearchCV(estimator=SVC(probability=True),\n",
              "             param_grid=[{&#x27;C&#x27;: [1, 10, 100, 1000], &#x27;kernel&#x27;: [&#x27;linear&#x27;]},\n",
              "                         {&#x27;C&#x27;: [1, 10, 100, 1000], &#x27;gamma&#x27;: [0.001, 0.0001],\n",
              "                          &#x27;kernel&#x27;: [&#x27;rbf&#x27;]}])</pre><b>In a Jupyter environment, please rerun this cell to show the HTML representation or trust the notebook. <br />On GitHub, the HTML representation is unable to render, please try loading this page with nbviewer.org.</b></div><div class=\"sk-container\" hidden><div class=\"sk-item sk-dashed-wrapped\"><div class=\"sk-label-container\"><div class=\"sk-label sk-toggleable\"><input class=\"sk-toggleable__control sk-hidden--visually\" id=\"sk-estimator-id-1\" type=\"checkbox\" ><label for=\"sk-estimator-id-1\" class=\"sk-toggleable__label sk-toggleable__label-arrow\">GridSearchCV</label><div class=\"sk-toggleable__content\"><pre>GridSearchCV(estimator=SVC(probability=True),\n",
              "             param_grid=[{&#x27;C&#x27;: [1, 10, 100, 1000], &#x27;kernel&#x27;: [&#x27;linear&#x27;]},\n",
              "                         {&#x27;C&#x27;: [1, 10, 100, 1000], &#x27;gamma&#x27;: [0.001, 0.0001],\n",
              "                          &#x27;kernel&#x27;: [&#x27;rbf&#x27;]}])</pre></div></div></div><div class=\"sk-parallel\"><div class=\"sk-parallel-item\"><div class=\"sk-item\"><div class=\"sk-label-container\"><div class=\"sk-label sk-toggleable\"><input class=\"sk-toggleable__control sk-hidden--visually\" id=\"sk-estimator-id-2\" type=\"checkbox\" ><label for=\"sk-estimator-id-2\" class=\"sk-toggleable__label sk-toggleable__label-arrow\">estimator: SVC</label><div class=\"sk-toggleable__content\"><pre>SVC(probability=True)</pre></div></div></div><div class=\"sk-serial\"><div class=\"sk-item\"><div class=\"sk-estimator sk-toggleable\"><input class=\"sk-toggleable__control sk-hidden--visually\" id=\"sk-estimator-id-3\" type=\"checkbox\" ><label for=\"sk-estimator-id-3\" class=\"sk-toggleable__label sk-toggleable__label-arrow\">SVC</label><div class=\"sk-toggleable__content\"><pre>SVC(probability=True)</pre></div></div></div></div></div></div></div></div></div></div>"
            ]
          },
          "metadata": {},
          "execution_count": 9
        },
        {
          "output_type": "stream",
          "name": "stdout",
          "text": [
            "time: 1min 25s (started: 2023-09-10 12:24:07 +00:00)\n"
          ]
        }
      ]
    },
    {
      "cell_type": "code",
      "source": [
        "#Fit to test data\n",
        "y_pred = clf.predict(x_test)\n",
        "y_pred"
      ],
      "metadata": {
        "colab": {
          "base_uri": "https://localhost:8080/"
        },
        "id": "iWUtVcREEmE3",
        "outputId": "81d2dd69-0b25-4e3c-d08a-d8aede750788"
      },
      "execution_count": null,
      "outputs": [
        {
          "output_type": "execute_result",
          "data": {
            "text/plain": [
              "array([1, 0, 2, 0, 2, 0, 1, 2, 1, 1, 0, 0, 1, 1, 2, 1, 0, 0, 1, 0, 0, 1,\n",
              "       0, 1, 2, 1, 2, 1, 1, 0, 0, 2, 1, 0, 1, 2])"
            ]
          },
          "metadata": {},
          "execution_count": 10
        },
        {
          "output_type": "stream",
          "name": "stdout",
          "text": [
            "time: 274 ms (started: 2023-09-10 12:25:32 +00:00)\n"
          ]
        }
      ]
    },
    {
      "cell_type": "code",
      "source": [
        "y_test"
      ],
      "metadata": {
        "colab": {
          "base_uri": "https://localhost:8080/"
        },
        "id": "DE9rZij4E4nc",
        "outputId": "5f703a65-d604-41c0-d394-7b4c0493eb1b"
      },
      "execution_count": null,
      "outputs": [
        {
          "output_type": "execute_result",
          "data": {
            "text/plain": [
              "array([1, 0, 2, 0, 2, 0, 1, 2, 2, 1, 0, 0, 1, 1, 1, 0, 0, 0, 1, 0, 0, 1,\n",
              "       0, 1, 2, 2, 2, 2, 2, 0, 0, 2, 1, 0, 1, 2])"
            ]
          },
          "metadata": {},
          "execution_count": 11
        },
        {
          "output_type": "stream",
          "name": "stdout",
          "text": [
            "time: 5.58 ms (started: 2023-09-10 12:25:33 +00:00)\n"
          ]
        }
      ]
    },
    {
      "cell_type": "code",
      "source": [
        "#Evaluate model perfomrance\n",
        "from sklearn.metrics import accuracy_score, confusion_matrix\n",
        "accuracy_score(y_pred, y_test)"
      ],
      "metadata": {
        "colab": {
          "base_uri": "https://localhost:8080/"
        },
        "id": "Dv2LTQeIE6bO",
        "outputId": "460016c1-3620-46cf-d5a2-fda35ea90ac1"
      },
      "execution_count": null,
      "outputs": [
        {
          "output_type": "execute_result",
          "data": {
            "text/plain": [
              "0.8333333333333334"
            ]
          },
          "metadata": {},
          "execution_count": 12
        },
        {
          "output_type": "stream",
          "name": "stdout",
          "text": [
            "time: 7.82 ms (started: 2023-09-10 12:25:33 +00:00)\n"
          ]
        }
      ]
    },
    {
      "cell_type": "code",
      "source": [
        "confusion_matrix(y_pred, y_test)"
      ],
      "metadata": {
        "colab": {
          "base_uri": "https://localhost:8080/"
        },
        "id": "bxwu41ngFG6S",
        "outputId": "f123110b-6ef1-48f2-c591-3a24b6d78640"
      },
      "execution_count": null,
      "outputs": [
        {
          "output_type": "execute_result",
          "data": {
            "text/plain": [
              "array([[13,  0,  0],\n",
              "       [ 1, 10,  4],\n",
              "       [ 0,  1,  7]])"
            ]
          },
          "metadata": {},
          "execution_count": 13
        },
        {
          "output_type": "stream",
          "name": "stdout",
          "text": [
            "time: 5.4 ms (started: 2023-09-10 12:25:33 +00:00)\n"
          ]
        }
      ]
    },
    {
      "cell_type": "markdown",
      "source": [
        "Save model using Pickle Library"
      ],
      "metadata": {
        "id": "Wxw6q6AUJNfT"
      }
    },
    {
      "cell_type": "code",
      "source": [
        "import pickle\n",
        "pickle.dump(clf, open('img_model.p', 'wb')) #Creates file called 'img_model.p' where model is saved"
      ],
      "metadata": {
        "colab": {
          "base_uri": "https://localhost:8080/"
        },
        "id": "epr_M64vJSW5",
        "outputId": "832e2331-9ddd-48fa-b7d5-0826f86e73a5"
      },
      "execution_count": null,
      "outputs": [
        {
          "output_type": "stream",
          "name": "stdout",
          "text": [
            "time: 72.3 ms (started: 2023-09-10 12:25:33 +00:00)\n"
          ]
        }
      ]
    },
    {
      "cell_type": "code",
      "source": [
        "model = pickle.load(open('img_model.p', 'rb'))"
      ],
      "metadata": {
        "colab": {
          "base_uri": "https://localhost:8080/"
        },
        "id": "BwSsqfsaJw_n",
        "outputId": "f1d2020c-b52b-4771-dd68-de9723abdff8"
      },
      "execution_count": null,
      "outputs": [
        {
          "output_type": "stream",
          "name": "stdout",
          "text": [
            "time: 11.4 ms (started: 2023-09-10 12:25:33 +00:00)\n"
          ]
        }
      ]
    },
    {
      "cell_type": "code",
      "source": [
        "#Testing a brand new image\n",
        "\n",
        "#flat_data = []\n",
        "#url = input('Enter your URL') #Prompt message to User\n",
        "#img = imread(url) #read url\n",
        "#img_resized = resize(img,(150,150,3))#resize image\n",
        "#flat_data.append(img_resized.flatten())#flatten image\n",
        "#flat_data = np.array(flat_data)\n",
        "\n",
        "#print(img.shape)\n",
        "#plt.imshow(img_resized)\n",
        "#y_out = model.predict(flat_data)\n",
        "#y_out = categories[y_out[0]]\n",
        "#print(f'Predicted Output: {y_out}')"
      ],
      "metadata": {
        "colab": {
          "base_uri": "https://localhost:8080/"
        },
        "id": "8BOTcu1HJ5vC",
        "outputId": "ebb5002e-2b6d-4a05-fda0-a0ff20ef454a"
      },
      "execution_count": null,
      "outputs": [
        {
          "output_type": "stream",
          "name": "stdout",
          "text": [
            "time: 359 µs (started: 2023-09-10 12:25:33 +00:00)\n"
          ]
        }
      ]
    },
    {
      "cell_type": "markdown",
      "source": [
        "# Model Deployment"
      ],
      "metadata": {
        "id": "ZSWOVbf9MdNN"
      }
    },
    {
      "cell_type": "markdown",
      "source": [
        "Forms of Deployment:\n",
        "1. Web Page - HTML/CSS/JS - Flask/Djanjo\n",
        "2. Web App - Streamlit/Dash\n",
        "3. Mobile App - Kotlin/Java"
      ],
      "metadata": {
        "id": "kSll1PZwOhH1"
      }
    },
    {
      "cell_type": "markdown",
      "source": [
        "Here Using Streamlit application to deploy model through a web app"
      ],
      "metadata": {
        "id": "imW2YN9AMgLq"
      }
    },
    {
      "cell_type": "code",
      "source": [
        "!pip install streamlit\n",
        "!pip install pyngrok\n",
        "from pyngrok import ngrok"
      ],
      "metadata": {
        "colab": {
          "base_uri": "https://localhost:8080/"
        },
        "id": "Wcm9v6iJMjG5",
        "outputId": "19702448-6155-437f-88af-619e32938126"
      },
      "execution_count": null,
      "outputs": [
        {
          "output_type": "stream",
          "name": "stdout",
          "text": [
            "Collecting streamlit\n",
            "  Downloading streamlit-1.26.0-py2.py3-none-any.whl (8.1 MB)\n",
            "\u001b[2K     \u001b[90m━━━━━━━━━━━━━━━━━━━━━━━━━━━━━━━━━━━━━━━━\u001b[0m \u001b[32m8.1/8.1 MB\u001b[0m \u001b[31m15.9 MB/s\u001b[0m eta \u001b[36m0:00:00\u001b[0m\n",
            "\u001b[?25hRequirement already satisfied: altair<6,>=4.0 in /usr/local/lib/python3.10/dist-packages (from streamlit) (4.2.2)\n",
            "Requirement already satisfied: blinker<2,>=1.0.0 in /usr/lib/python3/dist-packages (from streamlit) (1.4)\n",
            "Requirement already satisfied: cachetools<6,>=4.0 in /usr/local/lib/python3.10/dist-packages (from streamlit) (5.3.1)\n",
            "Requirement already satisfied: click<9,>=7.0 in /usr/local/lib/python3.10/dist-packages (from streamlit) (8.1.7)\n",
            "Requirement already satisfied: importlib-metadata<7,>=1.4 in /usr/local/lib/python3.10/dist-packages (from streamlit) (6.8.0)\n",
            "Requirement already satisfied: numpy<2,>=1.19.3 in /usr/local/lib/python3.10/dist-packages (from streamlit) (1.23.5)\n",
            "Requirement already satisfied: packaging<24,>=16.8 in /usr/local/lib/python3.10/dist-packages (from streamlit) (23.1)\n",
            "Requirement already satisfied: pandas<3,>=1.3.0 in /usr/local/lib/python3.10/dist-packages (from streamlit) (1.5.3)\n",
            "Requirement already satisfied: pillow<10,>=7.1.0 in /usr/local/lib/python3.10/dist-packages (from streamlit) (9.4.0)\n",
            "Requirement already satisfied: protobuf<5,>=3.20 in /usr/local/lib/python3.10/dist-packages (from streamlit) (3.20.3)\n",
            "Requirement already satisfied: pyarrow>=6.0 in /usr/local/lib/python3.10/dist-packages (from streamlit) (9.0.0)\n",
            "Collecting pympler<2,>=0.9 (from streamlit)\n",
            "  Downloading Pympler-1.0.1-py3-none-any.whl (164 kB)\n",
            "\u001b[2K     \u001b[90m━━━━━━━━━━━━━━━━━━━━━━━━━━━━━━━━━━━━━━\u001b[0m \u001b[32m164.8/164.8 kB\u001b[0m \u001b[31m14.7 MB/s\u001b[0m eta \u001b[36m0:00:00\u001b[0m\n",
            "\u001b[?25hRequirement already satisfied: python-dateutil<3,>=2.7.3 in /usr/local/lib/python3.10/dist-packages (from streamlit) (2.8.2)\n",
            "Requirement already satisfied: requests<3,>=2.18 in /usr/local/lib/python3.10/dist-packages (from streamlit) (2.31.0)\n",
            "Requirement already satisfied: rich<14,>=10.14.0 in /usr/local/lib/python3.10/dist-packages (from streamlit) (13.5.2)\n",
            "Requirement already satisfied: tenacity<9,>=8.1.0 in /usr/local/lib/python3.10/dist-packages (from streamlit) (8.2.3)\n",
            "Requirement already satisfied: toml<2,>=0.10.1 in /usr/local/lib/python3.10/dist-packages (from streamlit) (0.10.2)\n",
            "Requirement already satisfied: typing-extensions<5,>=4.1.0 in /usr/local/lib/python3.10/dist-packages (from streamlit) (4.5.0)\n",
            "Collecting tzlocal<5,>=1.1 (from streamlit)\n",
            "  Downloading tzlocal-4.3.1-py3-none-any.whl (20 kB)\n",
            "Collecting validators<1,>=0.2 (from streamlit)\n",
            "  Downloading validators-0.22.0-py3-none-any.whl (26 kB)\n",
            "Collecting gitpython!=3.1.19,<4,>=3.0.7 (from streamlit)\n",
            "  Downloading GitPython-3.1.35-py3-none-any.whl (188 kB)\n",
            "\u001b[2K     \u001b[90m━━━━━━━━━━━━━━━━━━━━━━━━━━━━━━━━━━━━━━\u001b[0m \u001b[32m188.8/188.8 kB\u001b[0m \u001b[31m19.5 MB/s\u001b[0m eta \u001b[36m0:00:00\u001b[0m\n",
            "\u001b[?25hCollecting pydeck<1,>=0.8 (from streamlit)\n",
            "  Downloading pydeck-0.8.0-py2.py3-none-any.whl (4.7 MB)\n",
            "\u001b[2K     \u001b[90m━━━━━━━━━━━━━━━━━━━━━━━━━━━━━━━━━━━━━━━━\u001b[0m \u001b[32m4.7/4.7 MB\u001b[0m \u001b[31m36.7 MB/s\u001b[0m eta \u001b[36m0:00:00\u001b[0m\n",
            "\u001b[?25hRequirement already satisfied: tornado<7,>=6.0.3 in /usr/local/lib/python3.10/dist-packages (from streamlit) (6.3.2)\n",
            "Collecting watchdog>=2.1.5 (from streamlit)\n",
            "  Downloading watchdog-3.0.0-py3-none-manylinux2014_x86_64.whl (82 kB)\n",
            "\u001b[2K     \u001b[90m━━━━━━━━━━━━━━━━━━━━━━━━━━━━━━━━━━━━━━━━\u001b[0m \u001b[32m82.1/82.1 kB\u001b[0m \u001b[31m8.2 MB/s\u001b[0m eta \u001b[36m0:00:00\u001b[0m\n",
            "\u001b[?25hRequirement already satisfied: entrypoints in /usr/local/lib/python3.10/dist-packages (from altair<6,>=4.0->streamlit) (0.4)\n",
            "Requirement already satisfied: jinja2 in /usr/local/lib/python3.10/dist-packages (from altair<6,>=4.0->streamlit) (3.1.2)\n",
            "Requirement already satisfied: jsonschema>=3.0 in /usr/local/lib/python3.10/dist-packages (from altair<6,>=4.0->streamlit) (4.19.0)\n",
            "Requirement already satisfied: toolz in /usr/local/lib/python3.10/dist-packages (from altair<6,>=4.0->streamlit) (0.12.0)\n",
            "Collecting gitdb<5,>=4.0.1 (from gitpython!=3.1.19,<4,>=3.0.7->streamlit)\n",
            "  Downloading gitdb-4.0.10-py3-none-any.whl (62 kB)\n",
            "\u001b[2K     \u001b[90m━━━━━━━━━━━━━━━━━━━━━━━━━━━━━━━━━━━━━━━━\u001b[0m \u001b[32m62.7/62.7 kB\u001b[0m \u001b[31m5.8 MB/s\u001b[0m eta \u001b[36m0:00:00\u001b[0m\n",
            "\u001b[?25hRequirement already satisfied: zipp>=0.5 in /usr/local/lib/python3.10/dist-packages (from importlib-metadata<7,>=1.4->streamlit) (3.16.2)\n",
            "Requirement already satisfied: pytz>=2020.1 in /usr/local/lib/python3.10/dist-packages (from pandas<3,>=1.3.0->streamlit) (2023.3.post1)\n",
            "Requirement already satisfied: six>=1.5 in /usr/local/lib/python3.10/dist-packages (from python-dateutil<3,>=2.7.3->streamlit) (1.16.0)\n",
            "Requirement already satisfied: charset-normalizer<4,>=2 in /usr/local/lib/python3.10/dist-packages (from requests<3,>=2.18->streamlit) (3.2.0)\n",
            "Requirement already satisfied: idna<4,>=2.5 in /usr/local/lib/python3.10/dist-packages (from requests<3,>=2.18->streamlit) (3.4)\n",
            "Requirement already satisfied: urllib3<3,>=1.21.1 in /usr/local/lib/python3.10/dist-packages (from requests<3,>=2.18->streamlit) (2.0.4)\n",
            "Requirement already satisfied: certifi>=2017.4.17 in /usr/local/lib/python3.10/dist-packages (from requests<3,>=2.18->streamlit) (2023.7.22)\n",
            "Requirement already satisfied: markdown-it-py>=2.2.0 in /usr/local/lib/python3.10/dist-packages (from rich<14,>=10.14.0->streamlit) (3.0.0)\n",
            "Requirement already satisfied: pygments<3.0.0,>=2.13.0 in /usr/local/lib/python3.10/dist-packages (from rich<14,>=10.14.0->streamlit) (2.16.1)\n",
            "Collecting pytz-deprecation-shim (from tzlocal<5,>=1.1->streamlit)\n",
            "  Downloading pytz_deprecation_shim-0.1.0.post0-py2.py3-none-any.whl (15 kB)\n",
            "Collecting smmap<6,>=3.0.1 (from gitdb<5,>=4.0.1->gitpython!=3.1.19,<4,>=3.0.7->streamlit)\n",
            "  Downloading smmap-5.0.0-py3-none-any.whl (24 kB)\n",
            "Requirement already satisfied: MarkupSafe>=2.0 in /usr/local/lib/python3.10/dist-packages (from jinja2->altair<6,>=4.0->streamlit) (2.1.3)\n",
            "Requirement already satisfied: attrs>=22.2.0 in /usr/local/lib/python3.10/dist-packages (from jsonschema>=3.0->altair<6,>=4.0->streamlit) (23.1.0)\n",
            "Requirement already satisfied: jsonschema-specifications>=2023.03.6 in /usr/local/lib/python3.10/dist-packages (from jsonschema>=3.0->altair<6,>=4.0->streamlit) (2023.7.1)\n",
            "Requirement already satisfied: referencing>=0.28.4 in /usr/local/lib/python3.10/dist-packages (from jsonschema>=3.0->altair<6,>=4.0->streamlit) (0.30.2)\n",
            "Requirement already satisfied: rpds-py>=0.7.1 in /usr/local/lib/python3.10/dist-packages (from jsonschema>=3.0->altair<6,>=4.0->streamlit) (0.10.2)\n",
            "Requirement already satisfied: mdurl~=0.1 in /usr/local/lib/python3.10/dist-packages (from markdown-it-py>=2.2.0->rich<14,>=10.14.0->streamlit) (0.1.2)\n",
            "Collecting tzdata (from pytz-deprecation-shim->tzlocal<5,>=1.1->streamlit)\n",
            "  Downloading tzdata-2023.3-py2.py3-none-any.whl (341 kB)\n",
            "\u001b[2K     \u001b[90m━━━━━━━━━━━━━━━━━━━━━━━━━━━━━━━━━━━━━━\u001b[0m \u001b[32m341.8/341.8 kB\u001b[0m \u001b[31m23.0 MB/s\u001b[0m eta \u001b[36m0:00:00\u001b[0m\n",
            "\u001b[?25hInstalling collected packages: watchdog, validators, tzdata, smmap, pympler, pytz-deprecation-shim, pydeck, gitdb, tzlocal, gitpython, streamlit\n",
            "  Attempting uninstall: tzlocal\n",
            "    Found existing installation: tzlocal 5.0.1\n",
            "    Uninstalling tzlocal-5.0.1:\n",
            "      Successfully uninstalled tzlocal-5.0.1\n",
            "Successfully installed gitdb-4.0.10 gitpython-3.1.35 pydeck-0.8.0 pympler-1.0.1 pytz-deprecation-shim-0.1.0.post0 smmap-5.0.0 streamlit-1.26.0 tzdata-2023.3 tzlocal-4.3.1 validators-0.22.0 watchdog-3.0.0\n",
            "Collecting pyngrok\n",
            "  Downloading pyngrok-6.0.0.tar.gz (681 kB)\n",
            "\u001b[2K     \u001b[90m━━━━━━━━━━━━━━━━━━━━━━━━━━━━━━━━━━━━━━━\u001b[0m \u001b[32m681.2/681.2 kB\u001b[0m \u001b[31m6.0 MB/s\u001b[0m eta \u001b[36m0:00:00\u001b[0m\n",
            "\u001b[?25h  Preparing metadata (setup.py) ... \u001b[?25l\u001b[?25hdone\n",
            "Requirement already satisfied: PyYAML in /usr/local/lib/python3.10/dist-packages (from pyngrok) (6.0.1)\n",
            "Building wheels for collected packages: pyngrok\n",
            "  Building wheel for pyngrok (setup.py) ... \u001b[?25l\u001b[?25hdone\n",
            "  Created wheel for pyngrok: filename=pyngrok-6.0.0-py3-none-any.whl size=19867 sha256=d1af677ddb98013d24c982c32ff9ef5b4ca111132575e78ad383af1f20792d1e\n",
            "  Stored in directory: /root/.cache/pip/wheels/5c/42/78/0c3d438d7f5730451a25f7ac6cbf4391759d22a67576ed7c2c\n",
            "Successfully built pyngrok\n",
            "Installing collected packages: pyngrok\n",
            "Successfully installed pyngrok-6.0.0\n",
            "time: 16.7 s (started: 2023-09-10 12:25:33 +00:00)\n"
          ]
        }
      ]
    },
    {
      "cell_type": "code",
      "source": [
        "# Create a Streamlit app file\n",
        "%%writefile app.py\n",
        "import streamlit as st\n",
        "import numpy as np\n",
        "from skimage.io import imread\n",
        "from skimage.transform import resize\n",
        "import pickle\n",
        "from PIL import Image\n",
        "\n",
        "def main():\n",
        "    st.title('Image Classifier Using Machine Learning')\n",
        "    st.text('Upload the Image')\n",
        "    #Streamlit app code goes here\n",
        "    uploaded_file = st.file_uploader('Choose an image...', type='jpg')\n",
        "    model = pickle.load(open('img_model.p', 'rb'))\n",
        "    if uploaded_file is not None:\n",
        "      img = Image.open(uploaded_file)\n",
        "      st.image(img, caption='Uploaded Image')\n",
        "      if st.button('Predict'):\n",
        "        categories =['pretty sunflower', 'tesla car', 'glass of water' ]\n",
        "        #Model prediction code\n",
        "        st.write('Result:')\n",
        "        flat_data = []\n",
        "        img = np.array(img)\n",
        "        img_resized = resize(img,(150,150,3))\n",
        "        flat_data.append(img_resized.flatten())\n",
        "        flat_data = np.array(flat_data)\n",
        "        y_out = model.predict(flat_data)\n",
        "        y_out = categories[y_out[0]]\n",
        "        st.title(f'Prediction: {y_out}')\n",
        "        #Get percentage of prediction\n",
        "        q = model.predict_proba(flat_data)\n",
        "        for index, item in enumerate(categories):\n",
        "          st.write(f'{item} : {q[0][index]*100:.4f}%')\n",
        "if __name__ == '__main__':\n",
        "    main()"
      ],
      "metadata": {
        "colab": {
          "base_uri": "https://localhost:8080/"
        },
        "id": "rXXexIWEc7HA",
        "outputId": "15401422-6bdf-4b17-bcfb-8e19ea0c5457"
      },
      "execution_count": null,
      "outputs": [
        {
          "output_type": "stream",
          "name": "stdout",
          "text": [
            "Writing app.py\n",
            "time: 2.96 ms (started: 2023-09-10 12:25:50 +00:00)\n"
          ]
        }
      ]
    },
    {
      "cell_type": "code",
      "source": [
        "ngrok.set_auth_token('2V1SOWqyrGFyBd6mpaFLcYoRIRt_4L8oqBQ8uJ5i83ZbVPf4n')"
      ],
      "metadata": {
        "colab": {
          "base_uri": "https://localhost:8080/"
        },
        "id": "1EYcgd2aZX-x",
        "outputId": "d2e11482-08bc-48f7-f549-1c0ac5bc4958"
      },
      "execution_count": null,
      "outputs": [
        {
          "output_type": "stream",
          "name": "stdout",
          "text": [
            "time: 987 ms (started: 2023-09-10 12:25:50 +00:00)\n"
          ]
        }
      ]
    },
    {
      "cell_type": "code",
      "source": [
        "# Run the Streamlit app in the background\n",
        "#!nohup streamlit run app.py &\n",
        "!nohup streamlit run --server.port 80 app.py &\n",
        "# Use ngrok to expose the app to the internet\n",
        "from pyngrok import ngrok\n",
        "url = ngrok.connect(80)\n",
        "print(url)"
      ],
      "metadata": {
        "colab": {
          "base_uri": "https://localhost:8080/"
        },
        "id": "VcypX45VdFsT",
        "outputId": "3f127af8-228f-48af-dd72-d852657ade1c"
      },
      "execution_count": null,
      "outputs": [
        {
          "output_type": "stream",
          "name": "stdout",
          "text": [
            "nohup: appending output to 'nohup.out'\n"
          ]
        },
        {
          "output_type": "stream",
          "name": "stderr",
          "text": [
            "WARNING:pyngrok.process.ngrok:t=2023-09-10T12:25:51+0000 lvl=warn msg=\"ngrok config file found at legacy location, move to XDG location\" xdg_path=/root/.config/ngrok/ngrok.yml legacy_path=/root/.ngrok2/ngrok.yml\n"
          ]
        },
        {
          "output_type": "stream",
          "name": "stdout",
          "text": [
            "NgrokTunnel: \"https://d5d0-35-196-233-232.ngrok-free.app\" -> \"http://localhost:80\"\n",
            "time: 347 ms (started: 2023-09-10 12:25:51 +00:00)\n"
          ]
        }
      ]
    }
  ]
}