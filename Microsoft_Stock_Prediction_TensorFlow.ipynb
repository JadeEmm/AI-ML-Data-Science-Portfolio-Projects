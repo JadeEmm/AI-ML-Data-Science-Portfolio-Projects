{
  "nbformat": 4,
  "nbformat_minor": 0,
  "metadata": {
    "colab": {
      "provenance": []
    },
    "kernelspec": {
      "name": "python3",
      "display_name": "Python 3"
    },
    "language_info": {
      "name": "python"
    }
  },
  "cells": [
    {
      "cell_type": "markdown",
      "source": [
        "#Installation Packages"
      ],
      "metadata": {
        "id": "qqUcNk7QKqRK"
      }
    },
    {
      "cell_type": "code",
      "execution_count": 1,
      "metadata": {
        "colab": {
          "base_uri": "https://localhost:8080/"
        },
        "id": "iKIGXEnrHtm0",
        "outputId": "b8f20d40-0cfa-4838-bef7-3d81d337df5d"
      },
      "outputs": [
        {
          "output_type": "stream",
          "name": "stdout",
          "text": [
            "Requirement already satisfied: opendatasets in /usr/local/lib/python3.10/dist-packages (0.1.22)\n",
            "Requirement already satisfied: tqdm in /usr/local/lib/python3.10/dist-packages (from opendatasets) (4.66.1)\n",
            "Requirement already satisfied: kaggle in /usr/local/lib/python3.10/dist-packages (from opendatasets) (1.5.16)\n",
            "Requirement already satisfied: click in /usr/local/lib/python3.10/dist-packages (from opendatasets) (8.1.7)\n",
            "Requirement already satisfied: six>=1.10 in /usr/local/lib/python3.10/dist-packages (from kaggle->opendatasets) (1.16.0)\n",
            "Requirement already satisfied: certifi in /usr/local/lib/python3.10/dist-packages (from kaggle->opendatasets) (2023.7.22)\n",
            "Requirement already satisfied: python-dateutil in /usr/local/lib/python3.10/dist-packages (from kaggle->opendatasets) (2.8.2)\n",
            "Requirement already satisfied: requests in /usr/local/lib/python3.10/dist-packages (from kaggle->opendatasets) (2.31.0)\n",
            "Requirement already satisfied: python-slugify in /usr/local/lib/python3.10/dist-packages (from kaggle->opendatasets) (8.0.1)\n",
            "Requirement already satisfied: urllib3 in /usr/local/lib/python3.10/dist-packages (from kaggle->opendatasets) (2.0.7)\n",
            "Requirement already satisfied: bleach in /usr/local/lib/python3.10/dist-packages (from kaggle->opendatasets) (6.1.0)\n",
            "Requirement already satisfied: webencodings in /usr/local/lib/python3.10/dist-packages (from bleach->kaggle->opendatasets) (0.5.1)\n",
            "Requirement already satisfied: text-unidecode>=1.3 in /usr/local/lib/python3.10/dist-packages (from python-slugify->kaggle->opendatasets) (1.3)\n",
            "Requirement already satisfied: charset-normalizer<4,>=2 in /usr/local/lib/python3.10/dist-packages (from requests->kaggle->opendatasets) (3.3.2)\n",
            "Requirement already satisfied: idna<4,>=2.5 in /usr/local/lib/python3.10/dist-packages (from requests->kaggle->opendatasets) (3.4)\n",
            "Requirement already satisfied: pandas in /usr/local/lib/python3.10/dist-packages (1.5.3)\n",
            "Requirement already satisfied: python-dateutil>=2.8.1 in /usr/local/lib/python3.10/dist-packages (from pandas) (2.8.2)\n",
            "Requirement already satisfied: pytz>=2020.1 in /usr/local/lib/python3.10/dist-packages (from pandas) (2023.3.post1)\n",
            "Requirement already satisfied: numpy>=1.21.0 in /usr/local/lib/python3.10/dist-packages (from pandas) (1.23.5)\n",
            "Requirement already satisfied: six>=1.5 in /usr/local/lib/python3.10/dist-packages (from python-dateutil>=2.8.1->pandas) (1.16.0)\n",
            "Collecting sklearn\n",
            "  Using cached sklearn-0.0.post11.tar.gz (3.6 kB)\n",
            "  \u001b[1;31merror\u001b[0m: \u001b[1msubprocess-exited-with-error\u001b[0m\n",
            "  \n",
            "  \u001b[31m×\u001b[0m \u001b[32mpython setup.py egg_info\u001b[0m did not run successfully.\n",
            "  \u001b[31m│\u001b[0m exit code: \u001b[1;36m1\u001b[0m\n",
            "  \u001b[31m╰─>\u001b[0m See above for output.\n",
            "  \n",
            "  \u001b[1;35mnote\u001b[0m: This error originates from a subprocess, and is likely not a problem with pip.\n",
            "  Preparing metadata (setup.py) ... \u001b[?25l\u001b[?25herror\n",
            "\u001b[1;31merror\u001b[0m: \u001b[1mmetadata-generation-failed\u001b[0m\n",
            "\n",
            "\u001b[31m×\u001b[0m Encountered error while generating package metadata.\n",
            "\u001b[31m╰─>\u001b[0m See above for output.\n",
            "\n",
            "\u001b[1;35mnote\u001b[0m: This is an issue with the package mentioned above, not pip.\n",
            "\u001b[1;36mhint\u001b[0m: See above for details.\n"
          ]
        }
      ],
      "source": [
        "!pip install opendatasets\n",
        "!pip install pandas\n",
        "!pip install sklearn"
      ]
    },
    {
      "cell_type": "code",
      "source": [
        "import opendatasets as od\n",
        "import pandas as pd\n",
        "\n",
        "import numpy as np\n",
        "import tensorflow as tf\n",
        "from tensorflow import keras\n",
        "from keras.metrics import RootMeanSquaredError\n",
        "\n",
        "#Visualisation packages\n",
        "import matplotlib.pyplot as plt\n",
        "import seaborn as sns\n",
        "\n",
        "#Modelling packages\n",
        "from sklearn.preprocessing import StandardScaler\n",
        "from sklearn.model_selection import train_test_split\n",
        "\n",
        "from datetime import date\n",
        "from datetime import datetime\n",
        "\n",
        "import warnings\n",
        "warnings.filterwarnings('ignore')"
      ],
      "metadata": {
        "id": "k9GFVSAwH-xz"
      },
      "execution_count": 2,
      "outputs": []
    },
    {
      "cell_type": "code",
      "source": [
        "od.download(\n",
        "    \"https://www.kaggle.com/datasets/varpit94/microsoft-stock-data\")"
      ],
      "metadata": {
        "colab": {
          "base_uri": "https://localhost:8080/"
        },
        "id": "h343oyzb8ZDh",
        "outputId": "2c394d48-76f9-40f2-aacc-30515b9a3f07"
      },
      "execution_count": 3,
      "outputs": [
        {
          "output_type": "stream",
          "name": "stdout",
          "text": [
            "Skipping, found downloaded files in \"./microsoft-stock-data\" (use force=True to force download)\n"
          ]
        }
      ]
    },
    {
      "cell_type": "code",
      "source": [
        "# reading the csv file\n",
        "file =('/content/microsoft-stock-data/MSFT.csv')\n",
        "df = pd.read_csv(file)\n",
        "\n",
        "# displaying the contents of the csv file\n",
        "df.head()"
      ],
      "metadata": {
        "colab": {
          "base_uri": "https://localhost:8080/",
          "height": 206
        },
        "id": "BTmpnenE8k0d",
        "outputId": "15972337-2a77-48a2-b2b2-15b8cc7daa1c"
      },
      "execution_count": 4,
      "outputs": [
        {
          "output_type": "execute_result",
          "data": {
            "text/plain": [
              "         Date      Open      High       Low     Close  Adj Close      Volume\n",
              "0  1986-03-13  0.088542  0.101563  0.088542  0.097222   0.061434  1031788800\n",
              "1  1986-03-14  0.097222  0.102431  0.097222  0.100694   0.063628   308160000\n",
              "2  1986-03-17  0.100694  0.103299  0.100694  0.102431   0.064725   133171200\n",
              "3  1986-03-18  0.102431  0.103299  0.098958  0.099826   0.063079    67766400\n",
              "4  1986-03-19  0.099826  0.100694  0.097222  0.098090   0.061982    47894400"
            ],
            "text/html": [
              "\n",
              "  <div id=\"df-e528fc0f-25c5-4343-8047-8d64dbb42cf2\" class=\"colab-df-container\">\n",
              "    <div>\n",
              "<style scoped>\n",
              "    .dataframe tbody tr th:only-of-type {\n",
              "        vertical-align: middle;\n",
              "    }\n",
              "\n",
              "    .dataframe tbody tr th {\n",
              "        vertical-align: top;\n",
              "    }\n",
              "\n",
              "    .dataframe thead th {\n",
              "        text-align: right;\n",
              "    }\n",
              "</style>\n",
              "<table border=\"1\" class=\"dataframe\">\n",
              "  <thead>\n",
              "    <tr style=\"text-align: right;\">\n",
              "      <th></th>\n",
              "      <th>Date</th>\n",
              "      <th>Open</th>\n",
              "      <th>High</th>\n",
              "      <th>Low</th>\n",
              "      <th>Close</th>\n",
              "      <th>Adj Close</th>\n",
              "      <th>Volume</th>\n",
              "    </tr>\n",
              "  </thead>\n",
              "  <tbody>\n",
              "    <tr>\n",
              "      <th>0</th>\n",
              "      <td>1986-03-13</td>\n",
              "      <td>0.088542</td>\n",
              "      <td>0.101563</td>\n",
              "      <td>0.088542</td>\n",
              "      <td>0.097222</td>\n",
              "      <td>0.061434</td>\n",
              "      <td>1031788800</td>\n",
              "    </tr>\n",
              "    <tr>\n",
              "      <th>1</th>\n",
              "      <td>1986-03-14</td>\n",
              "      <td>0.097222</td>\n",
              "      <td>0.102431</td>\n",
              "      <td>0.097222</td>\n",
              "      <td>0.100694</td>\n",
              "      <td>0.063628</td>\n",
              "      <td>308160000</td>\n",
              "    </tr>\n",
              "    <tr>\n",
              "      <th>2</th>\n",
              "      <td>1986-03-17</td>\n",
              "      <td>0.100694</td>\n",
              "      <td>0.103299</td>\n",
              "      <td>0.100694</td>\n",
              "      <td>0.102431</td>\n",
              "      <td>0.064725</td>\n",
              "      <td>133171200</td>\n",
              "    </tr>\n",
              "    <tr>\n",
              "      <th>3</th>\n",
              "      <td>1986-03-18</td>\n",
              "      <td>0.102431</td>\n",
              "      <td>0.103299</td>\n",
              "      <td>0.098958</td>\n",
              "      <td>0.099826</td>\n",
              "      <td>0.063079</td>\n",
              "      <td>67766400</td>\n",
              "    </tr>\n",
              "    <tr>\n",
              "      <th>4</th>\n",
              "      <td>1986-03-19</td>\n",
              "      <td>0.099826</td>\n",
              "      <td>0.100694</td>\n",
              "      <td>0.097222</td>\n",
              "      <td>0.098090</td>\n",
              "      <td>0.061982</td>\n",
              "      <td>47894400</td>\n",
              "    </tr>\n",
              "  </tbody>\n",
              "</table>\n",
              "</div>\n",
              "    <div class=\"colab-df-buttons\">\n",
              "\n",
              "  <div class=\"colab-df-container\">\n",
              "    <button class=\"colab-df-convert\" onclick=\"convertToInteractive('df-e528fc0f-25c5-4343-8047-8d64dbb42cf2')\"\n",
              "            title=\"Convert this dataframe to an interactive table.\"\n",
              "            style=\"display:none;\">\n",
              "\n",
              "  <svg xmlns=\"http://www.w3.org/2000/svg\" height=\"24px\" viewBox=\"0 -960 960 960\">\n",
              "    <path d=\"M120-120v-720h720v720H120Zm60-500h600v-160H180v160Zm220 220h160v-160H400v160Zm0 220h160v-160H400v160ZM180-400h160v-160H180v160Zm440 0h160v-160H620v160ZM180-180h160v-160H180v160Zm440 0h160v-160H620v160Z\"/>\n",
              "  </svg>\n",
              "    </button>\n",
              "\n",
              "  <style>\n",
              "    .colab-df-container {\n",
              "      display:flex;\n",
              "      gap: 12px;\n",
              "    }\n",
              "\n",
              "    .colab-df-convert {\n",
              "      background-color: #E8F0FE;\n",
              "      border: none;\n",
              "      border-radius: 50%;\n",
              "      cursor: pointer;\n",
              "      display: none;\n",
              "      fill: #1967D2;\n",
              "      height: 32px;\n",
              "      padding: 0 0 0 0;\n",
              "      width: 32px;\n",
              "    }\n",
              "\n",
              "    .colab-df-convert:hover {\n",
              "      background-color: #E2EBFA;\n",
              "      box-shadow: 0px 1px 2px rgba(60, 64, 67, 0.3), 0px 1px 3px 1px rgba(60, 64, 67, 0.15);\n",
              "      fill: #174EA6;\n",
              "    }\n",
              "\n",
              "    .colab-df-buttons div {\n",
              "      margin-bottom: 4px;\n",
              "    }\n",
              "\n",
              "    [theme=dark] .colab-df-convert {\n",
              "      background-color: #3B4455;\n",
              "      fill: #D2E3FC;\n",
              "    }\n",
              "\n",
              "    [theme=dark] .colab-df-convert:hover {\n",
              "      background-color: #434B5C;\n",
              "      box-shadow: 0px 1px 3px 1px rgba(0, 0, 0, 0.15);\n",
              "      filter: drop-shadow(0px 1px 2px rgba(0, 0, 0, 0.3));\n",
              "      fill: #FFFFFF;\n",
              "    }\n",
              "  </style>\n",
              "\n",
              "    <script>\n",
              "      const buttonEl =\n",
              "        document.querySelector('#df-e528fc0f-25c5-4343-8047-8d64dbb42cf2 button.colab-df-convert');\n",
              "      buttonEl.style.display =\n",
              "        google.colab.kernel.accessAllowed ? 'block' : 'none';\n",
              "\n",
              "      async function convertToInteractive(key) {\n",
              "        const element = document.querySelector('#df-e528fc0f-25c5-4343-8047-8d64dbb42cf2');\n",
              "        const dataTable =\n",
              "          await google.colab.kernel.invokeFunction('convertToInteractive',\n",
              "                                                    [key], {});\n",
              "        if (!dataTable) return;\n",
              "\n",
              "        const docLinkHtml = 'Like what you see? Visit the ' +\n",
              "          '<a target=\"_blank\" href=https://colab.research.google.com/notebooks/data_table.ipynb>data table notebook</a>'\n",
              "          + ' to learn more about interactive tables.';\n",
              "        element.innerHTML = '';\n",
              "        dataTable['output_type'] = 'display_data';\n",
              "        await google.colab.output.renderOutput(dataTable, element);\n",
              "        const docLink = document.createElement('div');\n",
              "        docLink.innerHTML = docLinkHtml;\n",
              "        element.appendChild(docLink);\n",
              "      }\n",
              "    </script>\n",
              "  </div>\n",
              "\n",
              "\n",
              "<div id=\"df-dac3d92f-d0d6-4c13-bda4-0ed313c50fd3\">\n",
              "  <button class=\"colab-df-quickchart\" onclick=\"quickchart('df-dac3d92f-d0d6-4c13-bda4-0ed313c50fd3')\"\n",
              "            title=\"Suggest charts\"\n",
              "            style=\"display:none;\">\n",
              "\n",
              "<svg xmlns=\"http://www.w3.org/2000/svg\" height=\"24px\"viewBox=\"0 0 24 24\"\n",
              "     width=\"24px\">\n",
              "    <g>\n",
              "        <path d=\"M19 3H5c-1.1 0-2 .9-2 2v14c0 1.1.9 2 2 2h14c1.1 0 2-.9 2-2V5c0-1.1-.9-2-2-2zM9 17H7v-7h2v7zm4 0h-2V7h2v10zm4 0h-2v-4h2v4z\"/>\n",
              "    </g>\n",
              "</svg>\n",
              "  </button>\n",
              "\n",
              "<style>\n",
              "  .colab-df-quickchart {\n",
              "      --bg-color: #E8F0FE;\n",
              "      --fill-color: #1967D2;\n",
              "      --hover-bg-color: #E2EBFA;\n",
              "      --hover-fill-color: #174EA6;\n",
              "      --disabled-fill-color: #AAA;\n",
              "      --disabled-bg-color: #DDD;\n",
              "  }\n",
              "\n",
              "  [theme=dark] .colab-df-quickchart {\n",
              "      --bg-color: #3B4455;\n",
              "      --fill-color: #D2E3FC;\n",
              "      --hover-bg-color: #434B5C;\n",
              "      --hover-fill-color: #FFFFFF;\n",
              "      --disabled-bg-color: #3B4455;\n",
              "      --disabled-fill-color: #666;\n",
              "  }\n",
              "\n",
              "  .colab-df-quickchart {\n",
              "    background-color: var(--bg-color);\n",
              "    border: none;\n",
              "    border-radius: 50%;\n",
              "    cursor: pointer;\n",
              "    display: none;\n",
              "    fill: var(--fill-color);\n",
              "    height: 32px;\n",
              "    padding: 0;\n",
              "    width: 32px;\n",
              "  }\n",
              "\n",
              "  .colab-df-quickchart:hover {\n",
              "    background-color: var(--hover-bg-color);\n",
              "    box-shadow: 0 1px 2px rgba(60, 64, 67, 0.3), 0 1px 3px 1px rgba(60, 64, 67, 0.15);\n",
              "    fill: var(--button-hover-fill-color);\n",
              "  }\n",
              "\n",
              "  .colab-df-quickchart-complete:disabled,\n",
              "  .colab-df-quickchart-complete:disabled:hover {\n",
              "    background-color: var(--disabled-bg-color);\n",
              "    fill: var(--disabled-fill-color);\n",
              "    box-shadow: none;\n",
              "  }\n",
              "\n",
              "  .colab-df-spinner {\n",
              "    border: 2px solid var(--fill-color);\n",
              "    border-color: transparent;\n",
              "    border-bottom-color: var(--fill-color);\n",
              "    animation:\n",
              "      spin 1s steps(1) infinite;\n",
              "  }\n",
              "\n",
              "  @keyframes spin {\n",
              "    0% {\n",
              "      border-color: transparent;\n",
              "      border-bottom-color: var(--fill-color);\n",
              "      border-left-color: var(--fill-color);\n",
              "    }\n",
              "    20% {\n",
              "      border-color: transparent;\n",
              "      border-left-color: var(--fill-color);\n",
              "      border-top-color: var(--fill-color);\n",
              "    }\n",
              "    30% {\n",
              "      border-color: transparent;\n",
              "      border-left-color: var(--fill-color);\n",
              "      border-top-color: var(--fill-color);\n",
              "      border-right-color: var(--fill-color);\n",
              "    }\n",
              "    40% {\n",
              "      border-color: transparent;\n",
              "      border-right-color: var(--fill-color);\n",
              "      border-top-color: var(--fill-color);\n",
              "    }\n",
              "    60% {\n",
              "      border-color: transparent;\n",
              "      border-right-color: var(--fill-color);\n",
              "    }\n",
              "    80% {\n",
              "      border-color: transparent;\n",
              "      border-right-color: var(--fill-color);\n",
              "      border-bottom-color: var(--fill-color);\n",
              "    }\n",
              "    90% {\n",
              "      border-color: transparent;\n",
              "      border-bottom-color: var(--fill-color);\n",
              "    }\n",
              "  }\n",
              "</style>\n",
              "\n",
              "  <script>\n",
              "    async function quickchart(key) {\n",
              "      const quickchartButtonEl =\n",
              "        document.querySelector('#' + key + ' button');\n",
              "      quickchartButtonEl.disabled = true;  // To prevent multiple clicks.\n",
              "      quickchartButtonEl.classList.add('colab-df-spinner');\n",
              "      try {\n",
              "        const charts = await google.colab.kernel.invokeFunction(\n",
              "            'suggestCharts', [key], {});\n",
              "      } catch (error) {\n",
              "        console.error('Error during call to suggestCharts:', error);\n",
              "      }\n",
              "      quickchartButtonEl.classList.remove('colab-df-spinner');\n",
              "      quickchartButtonEl.classList.add('colab-df-quickchart-complete');\n",
              "    }\n",
              "    (() => {\n",
              "      let quickchartButtonEl =\n",
              "        document.querySelector('#df-dac3d92f-d0d6-4c13-bda4-0ed313c50fd3 button');\n",
              "      quickchartButtonEl.style.display =\n",
              "        google.colab.kernel.accessAllowed ? 'block' : 'none';\n",
              "    })();\n",
              "  </script>\n",
              "</div>\n",
              "    </div>\n",
              "  </div>\n"
            ]
          },
          "metadata": {},
          "execution_count": 4
        }
      ]
    },
    {
      "cell_type": "markdown",
      "source": [
        "# EDA"
      ],
      "metadata": {
        "id": "SHJu1LzoBFoz"
      }
    },
    {
      "cell_type": "code",
      "source": [
        "df.shape"
      ],
      "metadata": {
        "colab": {
          "base_uri": "https://localhost:8080/"
        },
        "id": "jd7_nU6DBIhZ",
        "outputId": "d9e21a77-3049-466b-85d5-0a5b8baffe56"
      },
      "execution_count": 5,
      "outputs": [
        {
          "output_type": "execute_result",
          "data": {
            "text/plain": [
              "(9083, 7)"
            ]
          },
          "metadata": {},
          "execution_count": 5
        }
      ]
    },
    {
      "cell_type": "code",
      "source": [
        "df.describe()"
      ],
      "metadata": {
        "colab": {
          "base_uri": "https://localhost:8080/",
          "height": 300
        },
        "id": "s7KqqBJOBL-N",
        "outputId": "4b94a58e-19f5-49d3-def9-d71d38c28eef"
      },
      "execution_count": 6,
      "outputs": [
        {
          "output_type": "execute_result",
          "data": {
            "text/plain": [
              "              Open         High          Low        Close    Adj Close  \\\n",
              "count  9083.000000  9083.000000  9083.000000  9083.000000  9083.000000   \n",
              "mean     41.324936    41.760887    40.878488    41.335628    36.256120   \n",
              "std      59.696905    60.272218    59.081728    59.714567    59.981436   \n",
              "min       0.088542     0.092014     0.088542     0.090278     0.057046   \n",
              "25%       4.050781     4.102051     4.027344     4.075195     2.575089   \n",
              "50%      26.820000    27.100000    26.520000    26.840000    18.948530   \n",
              "75%      40.034999    40.443751    39.500000    39.937500    29.244812   \n",
              "max     344.619995   349.670013   342.200012   343.109985   342.402008   \n",
              "\n",
              "             Volume  \n",
              "count  9.083000e+03  \n",
              "mean   5.875055e+07  \n",
              "std    3.845200e+07  \n",
              "min    2.304000e+06  \n",
              "25%    3.461230e+07  \n",
              "50%    5.203200e+07  \n",
              "75%    7.265400e+07  \n",
              "max    1.031789e+09  "
            ],
            "text/html": [
              "\n",
              "  <div id=\"df-41afc36d-2d65-41de-b5ff-7717130daa1e\" class=\"colab-df-container\">\n",
              "    <div>\n",
              "<style scoped>\n",
              "    .dataframe tbody tr th:only-of-type {\n",
              "        vertical-align: middle;\n",
              "    }\n",
              "\n",
              "    .dataframe tbody tr th {\n",
              "        vertical-align: top;\n",
              "    }\n",
              "\n",
              "    .dataframe thead th {\n",
              "        text-align: right;\n",
              "    }\n",
              "</style>\n",
              "<table border=\"1\" class=\"dataframe\">\n",
              "  <thead>\n",
              "    <tr style=\"text-align: right;\">\n",
              "      <th></th>\n",
              "      <th>Open</th>\n",
              "      <th>High</th>\n",
              "      <th>Low</th>\n",
              "      <th>Close</th>\n",
              "      <th>Adj Close</th>\n",
              "      <th>Volume</th>\n",
              "    </tr>\n",
              "  </thead>\n",
              "  <tbody>\n",
              "    <tr>\n",
              "      <th>count</th>\n",
              "      <td>9083.000000</td>\n",
              "      <td>9083.000000</td>\n",
              "      <td>9083.000000</td>\n",
              "      <td>9083.000000</td>\n",
              "      <td>9083.000000</td>\n",
              "      <td>9.083000e+03</td>\n",
              "    </tr>\n",
              "    <tr>\n",
              "      <th>mean</th>\n",
              "      <td>41.324936</td>\n",
              "      <td>41.760887</td>\n",
              "      <td>40.878488</td>\n",
              "      <td>41.335628</td>\n",
              "      <td>36.256120</td>\n",
              "      <td>5.875055e+07</td>\n",
              "    </tr>\n",
              "    <tr>\n",
              "      <th>std</th>\n",
              "      <td>59.696905</td>\n",
              "      <td>60.272218</td>\n",
              "      <td>59.081728</td>\n",
              "      <td>59.714567</td>\n",
              "      <td>59.981436</td>\n",
              "      <td>3.845200e+07</td>\n",
              "    </tr>\n",
              "    <tr>\n",
              "      <th>min</th>\n",
              "      <td>0.088542</td>\n",
              "      <td>0.092014</td>\n",
              "      <td>0.088542</td>\n",
              "      <td>0.090278</td>\n",
              "      <td>0.057046</td>\n",
              "      <td>2.304000e+06</td>\n",
              "    </tr>\n",
              "    <tr>\n",
              "      <th>25%</th>\n",
              "      <td>4.050781</td>\n",
              "      <td>4.102051</td>\n",
              "      <td>4.027344</td>\n",
              "      <td>4.075195</td>\n",
              "      <td>2.575089</td>\n",
              "      <td>3.461230e+07</td>\n",
              "    </tr>\n",
              "    <tr>\n",
              "      <th>50%</th>\n",
              "      <td>26.820000</td>\n",
              "      <td>27.100000</td>\n",
              "      <td>26.520000</td>\n",
              "      <td>26.840000</td>\n",
              "      <td>18.948530</td>\n",
              "      <td>5.203200e+07</td>\n",
              "    </tr>\n",
              "    <tr>\n",
              "      <th>75%</th>\n",
              "      <td>40.034999</td>\n",
              "      <td>40.443751</td>\n",
              "      <td>39.500000</td>\n",
              "      <td>39.937500</td>\n",
              "      <td>29.244812</td>\n",
              "      <td>7.265400e+07</td>\n",
              "    </tr>\n",
              "    <tr>\n",
              "      <th>max</th>\n",
              "      <td>344.619995</td>\n",
              "      <td>349.670013</td>\n",
              "      <td>342.200012</td>\n",
              "      <td>343.109985</td>\n",
              "      <td>342.402008</td>\n",
              "      <td>1.031789e+09</td>\n",
              "    </tr>\n",
              "  </tbody>\n",
              "</table>\n",
              "</div>\n",
              "    <div class=\"colab-df-buttons\">\n",
              "\n",
              "  <div class=\"colab-df-container\">\n",
              "    <button class=\"colab-df-convert\" onclick=\"convertToInteractive('df-41afc36d-2d65-41de-b5ff-7717130daa1e')\"\n",
              "            title=\"Convert this dataframe to an interactive table.\"\n",
              "            style=\"display:none;\">\n",
              "\n",
              "  <svg xmlns=\"http://www.w3.org/2000/svg\" height=\"24px\" viewBox=\"0 -960 960 960\">\n",
              "    <path d=\"M120-120v-720h720v720H120Zm60-500h600v-160H180v160Zm220 220h160v-160H400v160Zm0 220h160v-160H400v160ZM180-400h160v-160H180v160Zm440 0h160v-160H620v160ZM180-180h160v-160H180v160Zm440 0h160v-160H620v160Z\"/>\n",
              "  </svg>\n",
              "    </button>\n",
              "\n",
              "  <style>\n",
              "    .colab-df-container {\n",
              "      display:flex;\n",
              "      gap: 12px;\n",
              "    }\n",
              "\n",
              "    .colab-df-convert {\n",
              "      background-color: #E8F0FE;\n",
              "      border: none;\n",
              "      border-radius: 50%;\n",
              "      cursor: pointer;\n",
              "      display: none;\n",
              "      fill: #1967D2;\n",
              "      height: 32px;\n",
              "      padding: 0 0 0 0;\n",
              "      width: 32px;\n",
              "    }\n",
              "\n",
              "    .colab-df-convert:hover {\n",
              "      background-color: #E2EBFA;\n",
              "      box-shadow: 0px 1px 2px rgba(60, 64, 67, 0.3), 0px 1px 3px 1px rgba(60, 64, 67, 0.15);\n",
              "      fill: #174EA6;\n",
              "    }\n",
              "\n",
              "    .colab-df-buttons div {\n",
              "      margin-bottom: 4px;\n",
              "    }\n",
              "\n",
              "    [theme=dark] .colab-df-convert {\n",
              "      background-color: #3B4455;\n",
              "      fill: #D2E3FC;\n",
              "    }\n",
              "\n",
              "    [theme=dark] .colab-df-convert:hover {\n",
              "      background-color: #434B5C;\n",
              "      box-shadow: 0px 1px 3px 1px rgba(0, 0, 0, 0.15);\n",
              "      filter: drop-shadow(0px 1px 2px rgba(0, 0, 0, 0.3));\n",
              "      fill: #FFFFFF;\n",
              "    }\n",
              "  </style>\n",
              "\n",
              "    <script>\n",
              "      const buttonEl =\n",
              "        document.querySelector('#df-41afc36d-2d65-41de-b5ff-7717130daa1e button.colab-df-convert');\n",
              "      buttonEl.style.display =\n",
              "        google.colab.kernel.accessAllowed ? 'block' : 'none';\n",
              "\n",
              "      async function convertToInteractive(key) {\n",
              "        const element = document.querySelector('#df-41afc36d-2d65-41de-b5ff-7717130daa1e');\n",
              "        const dataTable =\n",
              "          await google.colab.kernel.invokeFunction('convertToInteractive',\n",
              "                                                    [key], {});\n",
              "        if (!dataTable) return;\n",
              "\n",
              "        const docLinkHtml = 'Like what you see? Visit the ' +\n",
              "          '<a target=\"_blank\" href=https://colab.research.google.com/notebooks/data_table.ipynb>data table notebook</a>'\n",
              "          + ' to learn more about interactive tables.';\n",
              "        element.innerHTML = '';\n",
              "        dataTable['output_type'] = 'display_data';\n",
              "        await google.colab.output.renderOutput(dataTable, element);\n",
              "        const docLink = document.createElement('div');\n",
              "        docLink.innerHTML = docLinkHtml;\n",
              "        element.appendChild(docLink);\n",
              "      }\n",
              "    </script>\n",
              "  </div>\n",
              "\n",
              "\n",
              "<div id=\"df-189c5df3-2d8c-4ddf-8890-27fc456701be\">\n",
              "  <button class=\"colab-df-quickchart\" onclick=\"quickchart('df-189c5df3-2d8c-4ddf-8890-27fc456701be')\"\n",
              "            title=\"Suggest charts\"\n",
              "            style=\"display:none;\">\n",
              "\n",
              "<svg xmlns=\"http://www.w3.org/2000/svg\" height=\"24px\"viewBox=\"0 0 24 24\"\n",
              "     width=\"24px\">\n",
              "    <g>\n",
              "        <path d=\"M19 3H5c-1.1 0-2 .9-2 2v14c0 1.1.9 2 2 2h14c1.1 0 2-.9 2-2V5c0-1.1-.9-2-2-2zM9 17H7v-7h2v7zm4 0h-2V7h2v10zm4 0h-2v-4h2v4z\"/>\n",
              "    </g>\n",
              "</svg>\n",
              "  </button>\n",
              "\n",
              "<style>\n",
              "  .colab-df-quickchart {\n",
              "      --bg-color: #E8F0FE;\n",
              "      --fill-color: #1967D2;\n",
              "      --hover-bg-color: #E2EBFA;\n",
              "      --hover-fill-color: #174EA6;\n",
              "      --disabled-fill-color: #AAA;\n",
              "      --disabled-bg-color: #DDD;\n",
              "  }\n",
              "\n",
              "  [theme=dark] .colab-df-quickchart {\n",
              "      --bg-color: #3B4455;\n",
              "      --fill-color: #D2E3FC;\n",
              "      --hover-bg-color: #434B5C;\n",
              "      --hover-fill-color: #FFFFFF;\n",
              "      --disabled-bg-color: #3B4455;\n",
              "      --disabled-fill-color: #666;\n",
              "  }\n",
              "\n",
              "  .colab-df-quickchart {\n",
              "    background-color: var(--bg-color);\n",
              "    border: none;\n",
              "    border-radius: 50%;\n",
              "    cursor: pointer;\n",
              "    display: none;\n",
              "    fill: var(--fill-color);\n",
              "    height: 32px;\n",
              "    padding: 0;\n",
              "    width: 32px;\n",
              "  }\n",
              "\n",
              "  .colab-df-quickchart:hover {\n",
              "    background-color: var(--hover-bg-color);\n",
              "    box-shadow: 0 1px 2px rgba(60, 64, 67, 0.3), 0 1px 3px 1px rgba(60, 64, 67, 0.15);\n",
              "    fill: var(--button-hover-fill-color);\n",
              "  }\n",
              "\n",
              "  .colab-df-quickchart-complete:disabled,\n",
              "  .colab-df-quickchart-complete:disabled:hover {\n",
              "    background-color: var(--disabled-bg-color);\n",
              "    fill: var(--disabled-fill-color);\n",
              "    box-shadow: none;\n",
              "  }\n",
              "\n",
              "  .colab-df-spinner {\n",
              "    border: 2px solid var(--fill-color);\n",
              "    border-color: transparent;\n",
              "    border-bottom-color: var(--fill-color);\n",
              "    animation:\n",
              "      spin 1s steps(1) infinite;\n",
              "  }\n",
              "\n",
              "  @keyframes spin {\n",
              "    0% {\n",
              "      border-color: transparent;\n",
              "      border-bottom-color: var(--fill-color);\n",
              "      border-left-color: var(--fill-color);\n",
              "    }\n",
              "    20% {\n",
              "      border-color: transparent;\n",
              "      border-left-color: var(--fill-color);\n",
              "      border-top-color: var(--fill-color);\n",
              "    }\n",
              "    30% {\n",
              "      border-color: transparent;\n",
              "      border-left-color: var(--fill-color);\n",
              "      border-top-color: var(--fill-color);\n",
              "      border-right-color: var(--fill-color);\n",
              "    }\n",
              "    40% {\n",
              "      border-color: transparent;\n",
              "      border-right-color: var(--fill-color);\n",
              "      border-top-color: var(--fill-color);\n",
              "    }\n",
              "    60% {\n",
              "      border-color: transparent;\n",
              "      border-right-color: var(--fill-color);\n",
              "    }\n",
              "    80% {\n",
              "      border-color: transparent;\n",
              "      border-right-color: var(--fill-color);\n",
              "      border-bottom-color: var(--fill-color);\n",
              "    }\n",
              "    90% {\n",
              "      border-color: transparent;\n",
              "      border-bottom-color: var(--fill-color);\n",
              "    }\n",
              "  }\n",
              "</style>\n",
              "\n",
              "  <script>\n",
              "    async function quickchart(key) {\n",
              "      const quickchartButtonEl =\n",
              "        document.querySelector('#' + key + ' button');\n",
              "      quickchartButtonEl.disabled = true;  // To prevent multiple clicks.\n",
              "      quickchartButtonEl.classList.add('colab-df-spinner');\n",
              "      try {\n",
              "        const charts = await google.colab.kernel.invokeFunction(\n",
              "            'suggestCharts', [key], {});\n",
              "      } catch (error) {\n",
              "        console.error('Error during call to suggestCharts:', error);\n",
              "      }\n",
              "      quickchartButtonEl.classList.remove('colab-df-spinner');\n",
              "      quickchartButtonEl.classList.add('colab-df-quickchart-complete');\n",
              "    }\n",
              "    (() => {\n",
              "      let quickchartButtonEl =\n",
              "        document.querySelector('#df-189c5df3-2d8c-4ddf-8890-27fc456701be button');\n",
              "      quickchartButtonEl.style.display =\n",
              "        google.colab.kernel.accessAllowed ? 'block' : 'none';\n",
              "    })();\n",
              "  </script>\n",
              "</div>\n",
              "    </div>\n",
              "  </div>\n"
            ]
          },
          "metadata": {},
          "execution_count": 6
        }
      ]
    },
    {
      "cell_type": "code",
      "source": [
        "# convert all column names to lower case\n",
        "def lowercase (df):\n",
        "  \"\"\" takes in a dataframe and converts all the columns headings to lower case and replaces spaces with an underscore\"\"\"\n",
        "  for columns in df:\n",
        "    df.columns= df.columns.str.lower()\n",
        "    df.columns = df.columns.str.replace(' ', '_')\n",
        "\n",
        "lowercase(df)\n",
        "df.columns"
      ],
      "metadata": {
        "colab": {
          "base_uri": "https://localhost:8080/"
        },
        "id": "srjx4hFaEUxO",
        "outputId": "29f0349f-0c5c-40ac-8cdc-0fc93d61bf04"
      },
      "execution_count": 7,
      "outputs": [
        {
          "output_type": "execute_result",
          "data": {
            "text/plain": [
              "Index(['date', 'open', 'high', 'low', 'close', 'adj_close', 'volume'], dtype='object')"
            ]
          },
          "metadata": {},
          "execution_count": 7
        }
      ]
    },
    {
      "cell_type": "code",
      "source": [
        "df.isna().sum()"
      ],
      "metadata": {
        "colab": {
          "base_uri": "https://localhost:8080/"
        },
        "id": "e8GhIuWLBL8H",
        "outputId": "71f8177e-040b-4ee2-af1e-839fba4ca1f0"
      },
      "execution_count": 8,
      "outputs": [
        {
          "output_type": "execute_result",
          "data": {
            "text/plain": [
              "date         0\n",
              "open         0\n",
              "high         0\n",
              "low          0\n",
              "close        0\n",
              "adj_close    0\n",
              "volume       0\n",
              "dtype: int64"
            ]
          },
          "metadata": {},
          "execution_count": 8
        }
      ]
    },
    {
      "cell_type": "code",
      "source": [
        "df.info()"
      ],
      "metadata": {
        "colab": {
          "base_uri": "https://localhost:8080/"
        },
        "id": "Swyo5j5JBL4-",
        "outputId": "546e255a-5886-4a9b-c692-4f48fb15fd10"
      },
      "execution_count": 9,
      "outputs": [
        {
          "output_type": "stream",
          "name": "stdout",
          "text": [
            "<class 'pandas.core.frame.DataFrame'>\n",
            "RangeIndex: 9083 entries, 0 to 9082\n",
            "Data columns (total 7 columns):\n",
            " #   Column     Non-Null Count  Dtype  \n",
            "---  ------     --------------  -----  \n",
            " 0   date       9083 non-null   object \n",
            " 1   open       9083 non-null   float64\n",
            " 2   high       9083 non-null   float64\n",
            " 3   low        9083 non-null   float64\n",
            " 4   close      9083 non-null   float64\n",
            " 5   adj_close  9083 non-null   float64\n",
            " 6   volume     9083 non-null   int64  \n",
            "dtypes: float64(5), int64(1), object(1)\n",
            "memory usage: 496.9+ KB\n"
          ]
        }
      ]
    },
    {
      "cell_type": "code",
      "source": [
        "plt.figure(figsize=(10,8))\n",
        "sns.lineplot(data=df[['open', 'close', 'adj_close']], palette=['red', 'blue', 'green'])\n",
        "plt.title('MSFT Stock Price', fontsize = 16)\n",
        "plt.ylabel('Price ($USD)')\n",
        "plt.show()"
      ],
      "metadata": {
        "colab": {
          "base_uri": "https://localhost:8080/",
          "height": 701
        },
        "id": "HBHENwZiNLNW",
        "outputId": "fedbc015-b27d-4cfc-b019-548d5745001c"
      },
      "execution_count": 10,
      "outputs": [
        {
          "output_type": "display_data",
          "data": {
            "text/plain": [
              "<Figure size 1000x800 with 1 Axes>"
            ],
            "image/png": "[encoded data removed]"
          },
          "metadata": {}
        }
      ]
    },
    {
      "cell_type": "code",
      "source": [
        "#Convert date colunm to datetime\n",
        "df['date']= pd.to_datetime(df['date'])\n",
        "df.info()"
      ],
      "metadata": {
        "colab": {
          "base_uri": "https://localhost:8080/"
        },
        "id": "d64I2IqzCKGX",
        "outputId": "3f44c69b-3c06-4d61-fed5-8e6e41319b21"
      },
      "execution_count": 11,
      "outputs": [
        {
          "output_type": "stream",
          "name": "stdout",
          "text": [
            "<class 'pandas.core.frame.DataFrame'>\n",
            "RangeIndex: 9083 entries, 0 to 9082\n",
            "Data columns (total 7 columns):\n",
            " #   Column     Non-Null Count  Dtype         \n",
            "---  ------     --------------  -----         \n",
            " 0   date       9083 non-null   datetime64[ns]\n",
            " 1   open       9083 non-null   float64       \n",
            " 2   high       9083 non-null   float64       \n",
            " 3   low        9083 non-null   float64       \n",
            " 4   close      9083 non-null   float64       \n",
            " 5   adj_close  9083 non-null   float64       \n",
            " 6   volume     9083 non-null   int64         \n",
            "dtypes: datetime64[ns](1), float64(5), int64(1)\n",
            "memory usage: 496.9 KB\n"
          ]
        }
      ]
    },
    {
      "cell_type": "code",
      "source": [
        "plt.plot(df['date'],\n",
        "         df['volume'])\n",
        "plt.title(' Stock Volume over Time')\n",
        "plt.xlabel('Year')\n",
        "plt.ylabel('Volume')\n",
        "\n",
        "plt.show()"
      ],
      "metadata": {
        "colab": {
          "base_uri": "https://localhost:8080/",
          "height": 472
        },
        "id": "fY4IGoIWJbYn",
        "outputId": "1232207b-6201-4d64-9b3d-da2b9baecfd8"
      },
      "execution_count": 12,
      "outputs": [
        {
          "output_type": "display_data",
          "data": {
            "text/plain": [
              "<Figure size 640x480 with 1 Axes>"
            ],
            "image/png": "[encoded data removed]"
          },
          "metadata": {}
        }
      ]
    },
    {
      "cell_type": "code",
      "source": [
        "#Check feature correlation by visualising heatmap\n",
        "plt.figure(figsize=(10,10))\n",
        "\n",
        "sns.heatmap(df.corr()\n",
        "            , annot = True, cbar=False)\n",
        "plt.show()"
      ],
      "metadata": {
        "colab": {
          "base_uri": "https://localhost:8080/",
          "height": 830
        },
        "id": "hFGeQ99__9kR",
        "outputId": "05ab3f0c-2e0a-4610-b900-c650ee8f63ab"
      },
      "execution_count": 13,
      "outputs": [
        {
          "output_type": "display_data",
          "data": {
            "text/plain": [
              "<Figure size 1000x1000 with 1 Axes>"
            ],
            "image/png": "[encoded data removed]"
          },
          "metadata": {}
        }
      ]
    },
    {
      "cell_type": "code",
      "source": [
        "#Remove unecessary columns\n",
        "df = df.drop(['adj_close'], axis=1)\n",
        "df.head()"
      ],
      "metadata": {
        "colab": {
          "base_uri": "https://localhost:8080/",
          "height": 206
        },
        "id": "Nssnle6GKrbh",
        "outputId": "6c0c8b6b-05cc-4c45-aca8-24d0ff6c2a46"
      },
      "execution_count": 14,
      "outputs": [
        {
          "output_type": "execute_result",
          "data": {
            "text/plain": [
              "        date      open      high       low     close      volume\n",
              "0 1986-03-13  0.088542  0.101563  0.088542  0.097222  1031788800\n",
              "1 1986-03-14  0.097222  0.102431  0.097222  0.100694   308160000\n",
              "2 1986-03-17  0.100694  0.103299  0.100694  0.102431   133171200\n",
              "3 1986-03-18  0.102431  0.103299  0.098958  0.099826    67766400\n",
              "4 1986-03-19  0.099826  0.100694  0.097222  0.098090    47894400"
            ],
            "text/html": [
              "\n",
              "  <div id=\"df-b2ff5c6e-75fe-44be-8acb-13066d5ee7f5\" class=\"colab-df-container\">\n",
              "    <div>\n",
              "<style scoped>\n",
              "    .dataframe tbody tr th:only-of-type {\n",
              "        vertical-align: middle;\n",
              "    }\n",
              "\n",
              "    .dataframe tbody tr th {\n",
              "        vertical-align: top;\n",
              "    }\n",
              "\n",
              "    .dataframe thead th {\n",
              "        text-align: right;\n",
              "    }\n",
              "</style>\n",
              "<table border=\"1\" class=\"dataframe\">\n",
              "  <thead>\n",
              "    <tr style=\"text-align: right;\">\n",
              "      <th></th>\n",
              "      <th>date</th>\n",
              "      <th>open</th>\n",
              "      <th>high</th>\n",
              "      <th>low</th>\n",
              "      <th>close</th>\n",
              "      <th>volume</th>\n",
              "    </tr>\n",
              "  </thead>\n",
              "  <tbody>\n",
              "    <tr>\n",
              "      <th>0</th>\n",
              "      <td>1986-03-13</td>\n",
              "      <td>0.088542</td>\n",
              "      <td>0.101563</td>\n",
              "      <td>0.088542</td>\n",
              "      <td>0.097222</td>\n",
              "      <td>1031788800</td>\n",
              "    </tr>\n",
              "    <tr>\n",
              "      <th>1</th>\n",
              "      <td>1986-03-14</td>\n",
              "      <td>0.097222</td>\n",
              "      <td>0.102431</td>\n",
              "      <td>0.097222</td>\n",
              "      <td>0.100694</td>\n",
              "      <td>308160000</td>\n",
              "    </tr>\n",
              "    <tr>\n",
              "      <th>2</th>\n",
              "      <td>1986-03-17</td>\n",
              "      <td>0.100694</td>\n",
              "      <td>0.103299</td>\n",
              "      <td>0.100694</td>\n",
              "      <td>0.102431</td>\n",
              "      <td>133171200</td>\n",
              "    </tr>\n",
              "    <tr>\n",
              "      <th>3</th>\n",
              "      <td>1986-03-18</td>\n",
              "      <td>0.102431</td>\n",
              "      <td>0.103299</td>\n",
              "      <td>0.098958</td>\n",
              "      <td>0.099826</td>\n",
              "      <td>67766400</td>\n",
              "    </tr>\n",
              "    <tr>\n",
              "      <th>4</th>\n",
              "      <td>1986-03-19</td>\n",
              "      <td>0.099826</td>\n",
              "      <td>0.100694</td>\n",
              "      <td>0.097222</td>\n",
              "      <td>0.098090</td>\n",
              "      <td>47894400</td>\n",
              "    </tr>\n",
              "  </tbody>\n",
              "</table>\n",
              "</div>\n",
              "    <div class=\"colab-df-buttons\">\n",
              "\n",
              "  <div class=\"colab-df-container\">\n",
              "    <button class=\"colab-df-convert\" onclick=\"convertToInteractive('df-b2ff5c6e-75fe-44be-8acb-13066d5ee7f5')\"\n",
              "            title=\"Convert this dataframe to an interactive table.\"\n",
              "            style=\"display:none;\">\n",
              "\n",
              "  <svg xmlns=\"http://www.w3.org/2000/svg\" height=\"24px\" viewBox=\"0 -960 960 960\">\n",
              "    <path d=\"M120-120v-720h720v720H120Zm60-500h600v-160H180v160Zm220 220h160v-160H400v160Zm0 220h160v-160H400v160ZM180-400h160v-160H180v160Zm440 0h160v-160H620v160ZM180-180h160v-160H180v160Zm440 0h160v-160H620v160Z\"/>\n",
              "  </svg>\n",
              "    </button>\n",
              "\n",
              "  <style>\n",
              "    .colab-df-container {\n",
              "      display:flex;\n",
              "      gap: 12px;\n",
              "    }\n",
              "\n",
              "    .colab-df-convert {\n",
              "      background-color: #E8F0FE;\n",
              "      border: none;\n",
              "      border-radius: 50%;\n",
              "      cursor: pointer;\n",
              "      display: none;\n",
              "      fill: #1967D2;\n",
              "      height: 32px;\n",
              "      padding: 0 0 0 0;\n",
              "      width: 32px;\n",
              "    }\n",
              "\n",
              "    .colab-df-convert:hover {\n",
              "      background-color: #E2EBFA;\n",
              "      box-shadow: 0px 1px 2px rgba(60, 64, 67, 0.3), 0px 1px 3px 1px rgba(60, 64, 67, 0.15);\n",
              "      fill: #174EA6;\n",
              "    }\n",
              "\n",
              "    .colab-df-buttons div {\n",
              "      margin-bottom: 4px;\n",
              "    }\n",
              "\n",
              "    [theme=dark] .colab-df-convert {\n",
              "      background-color: #3B4455;\n",
              "      fill: #D2E3FC;\n",
              "    }\n",
              "\n",
              "    [theme=dark] .colab-df-convert:hover {\n",
              "      background-color: #434B5C;\n",
              "      box-shadow: 0px 1px 3px 1px rgba(0, 0, 0, 0.15);\n",
              "      filter: drop-shadow(0px 1px 2px rgba(0, 0, 0, 0.3));\n",
              "      fill: #FFFFFF;\n",
              "    }\n",
              "  </style>\n",
              "\n",
              "    <script>\n",
              "      const buttonEl =\n",
              "        document.querySelector('#df-b2ff5c6e-75fe-44be-8acb-13066d5ee7f5 button.colab-df-convert');\n",
              "      buttonEl.style.display =\n",
              "        google.colab.kernel.accessAllowed ? 'block' : 'none';\n",
              "\n",
              "      async function convertToInteractive(key) {\n",
              "        const element = document.querySelector('#df-b2ff5c6e-75fe-44be-8acb-13066d5ee7f5');\n",
              "        const dataTable =\n",
              "          await google.colab.kernel.invokeFunction('convertToInteractive',\n",
              "                                                    [key], {});\n",
              "        if (!dataTable) return;\n",
              "\n",
              "        const docLinkHtml = 'Like what you see? Visit the ' +\n",
              "          '<a target=\"_blank\" href=https://colab.research.google.com/notebooks/data_table.ipynb>data table notebook</a>'\n",
              "          + ' to learn more about interactive tables.';\n",
              "        element.innerHTML = '';\n",
              "        dataTable['output_type'] = 'display_data';\n",
              "        await google.colab.output.renderOutput(dataTable, element);\n",
              "        const docLink = document.createElement('div');\n",
              "        docLink.innerHTML = docLinkHtml;\n",
              "        element.appendChild(docLink);\n",
              "      }\n",
              "    </script>\n",
              "  </div>\n",
              "\n",
              "\n",
              "<div id=\"df-c2b85797-2d02-4c21-9907-ef3512f94001\">\n",
              "  <button class=\"colab-df-quickchart\" onclick=\"quickchart('df-c2b85797-2d02-4c21-9907-ef3512f94001')\"\n",
              "            title=\"Suggest charts\"\n",
              "            style=\"display:none;\">\n",
              "\n",
              "<svg xmlns=\"http://www.w3.org/2000/svg\" height=\"24px\"viewBox=\"0 0 24 24\"\n",
              "     width=\"24px\">\n",
              "    <g>\n",
              "        <path d=\"M19 3H5c-1.1 0-2 .9-2 2v14c0 1.1.9 2 2 2h14c1.1 0 2-.9 2-2V5c0-1.1-.9-2-2-2zM9 17H7v-7h2v7zm4 0h-2V7h2v10zm4 0h-2v-4h2v4z\"/>\n",
              "    </g>\n",
              "</svg>\n",
              "  </button>\n",
              "\n",
              "<style>\n",
              "  .colab-df-quickchart {\n",
              "      --bg-color: #E8F0FE;\n",
              "      --fill-color: #1967D2;\n",
              "      --hover-bg-color: #E2EBFA;\n",
              "      --hover-fill-color: #174EA6;\n",
              "      --disabled-fill-color: #AAA;\n",
              "      --disabled-bg-color: #DDD;\n",
              "  }\n",
              "\n",
              "  [theme=dark] .colab-df-quickchart {\n",
              "      --bg-color: #3B4455;\n",
              "      --fill-color: #D2E3FC;\n",
              "      --hover-bg-color: #434B5C;\n",
              "      --hover-fill-color: #FFFFFF;\n",
              "      --disabled-bg-color: #3B4455;\n",
              "      --disabled-fill-color: #666;\n",
              "  }\n",
              "\n",
              "  .colab-df-quickchart {\n",
              "    background-color: var(--bg-color);\n",
              "    border: none;\n",
              "    border-radius: 50%;\n",
              "    cursor: pointer;\n",
              "    display: none;\n",
              "    fill: var(--fill-color);\n",
              "    height: 32px;\n",
              "    padding: 0;\n",
              "    width: 32px;\n",
              "  }\n",
              "\n",
              "  .colab-df-quickchart:hover {\n",
              "    background-color: var(--hover-bg-color);\n",
              "    box-shadow: 0 1px 2px rgba(60, 64, 67, 0.3), 0 1px 3px 1px rgba(60, 64, 67, 0.15);\n",
              "    fill: var(--button-hover-fill-color);\n",
              "  }\n",
              "\n",
              "  .colab-df-quickchart-complete:disabled,\n",
              "  .colab-df-quickchart-complete:disabled:hover {\n",
              "    background-color: var(--disabled-bg-color);\n",
              "    fill: var(--disabled-fill-color);\n",
              "    box-shadow: none;\n",
              "  }\n",
              "\n",
              "  .colab-df-spinner {\n",
              "    border: 2px solid var(--fill-color);\n",
              "    border-color: transparent;\n",
              "    border-bottom-color: var(--fill-color);\n",
              "    animation:\n",
              "      spin 1s steps(1) infinite;\n",
              "  }\n",
              "\n",
              "  @keyframes spin {\n",
              "    0% {\n",
              "      border-color: transparent;\n",
              "      border-bottom-color: var(--fill-color);\n",
              "      border-left-color: var(--fill-color);\n",
              "    }\n",
              "    20% {\n",
              "      border-color: transparent;\n",
              "      border-left-color: var(--fill-color);\n",
              "      border-top-color: var(--fill-color);\n",
              "    }\n",
              "    30% {\n",
              "      border-color: transparent;\n",
              "      border-left-color: var(--fill-color);\n",
              "      border-top-color: var(--fill-color);\n",
              "      border-right-color: var(--fill-color);\n",
              "    }\n",
              "    40% {\n",
              "      border-color: transparent;\n",
              "      border-right-color: var(--fill-color);\n",
              "      border-top-color: var(--fill-color);\n",
              "    }\n",
              "    60% {\n",
              "      border-color: transparent;\n",
              "      border-right-color: var(--fill-color);\n",
              "    }\n",
              "    80% {\n",
              "      border-color: transparent;\n",
              "      border-right-color: var(--fill-color);\n",
              "      border-bottom-color: var(--fill-color);\n",
              "    }\n",
              "    90% {\n",
              "      border-color: transparent;\n",
              "      border-bottom-color: var(--fill-color);\n",
              "    }\n",
              "  }\n",
              "</style>\n",
              "\n",
              "  <script>\n",
              "    async function quickchart(key) {\n",
              "      const quickchartButtonEl =\n",
              "        document.querySelector('#' + key + ' button');\n",
              "      quickchartButtonEl.disabled = true;  // To prevent multiple clicks.\n",
              "      quickchartButtonEl.classList.add('colab-df-spinner');\n",
              "      try {\n",
              "        const charts = await google.colab.kernel.invokeFunction(\n",
              "            'suggestCharts', [key], {});\n",
              "      } catch (error) {\n",
              "        console.error('Error during call to suggestCharts:', error);\n",
              "      }\n",
              "      quickchartButtonEl.classList.remove('colab-df-spinner');\n",
              "      quickchartButtonEl.classList.add('colab-df-quickchart-complete');\n",
              "    }\n",
              "    (() => {\n",
              "      let quickchartButtonEl =\n",
              "        document.querySelector('#df-c2b85797-2d02-4c21-9907-ef3512f94001 button');\n",
              "      quickchartButtonEl.style.display =\n",
              "        google.colab.kernel.accessAllowed ? 'block' : 'none';\n",
              "    })();\n",
              "  </script>\n",
              "</div>\n",
              "    </div>\n",
              "  </div>\n"
            ]
          },
          "metadata": {},
          "execution_count": 14
        }
      ]
    },
    {
      "cell_type": "markdown",
      "source": [
        "# Model Preparation"
      ],
      "metadata": {
        "id": "L-YpHvGYMNUc"
      }
    },
    {
      "cell_type": "code",
      "source": [
        "#Prepare the training set samples\n",
        "# Select a subset of the whole dataset (90%) as the training data and print out the training data length\n",
        "close = df.filter(['close'])\n",
        "dataset = close.values\n",
        "training = int(np.ceil(len(dataset)* .90))\n",
        "print(training)"
      ],
      "metadata": {
        "id": "o0kZLA0bMHHE",
        "colab": {
          "base_uri": "https://localhost:8080/"
        },
        "outputId": "78371eae-d133-4ee8-80af-6621510a94b0"
      },
      "execution_count": 15,
      "outputs": [
        {
          "output_type": "stream",
          "name": "stdout",
          "text": [
            "8175\n"
          ]
        }
      ]
    },
    {
      "cell_type": "markdown",
      "source": [
        "Above code explained:\n",
        "1. The code takes a DataFrame called df and selects only the 'close' column, storing it in a new variable called close.\n",
        "\n",
        "2. The values from the close column are then converted into an array and saved in a variable named dataset.\n",
        "\n",
        "3. The variable training is calculated to represent 95% of the total data points in dataset, rounded up to the nearest whole number.\n",
        "\n",
        "4. The code prints the value of training, showing how many data points will be used for training a machine learning model.\n",
        "\n"
      ],
      "metadata": {
        "id": "lMcskcx1yuCw"
      }
    },
    {
      "cell_type": "code",
      "source": [
        "#Scale the data\n",
        "#create a StandardScaler to scale the dataset, which means adjusting the data so it has a mean of 0 and a standard deviation of 1.\n",
        "ss= StandardScaler()\n",
        "#The scaler is applied to the dataset, transforming the data to have a mean of 0 and standard deviation of 1.\n",
        "ss = ss.fit_transform(dataset)\n",
        "\n",
        "#selects a portion of the scaled dataset for training, typically the first part.\n",
        "train_data = ss[0:int(training), :]\n",
        "#two empty lists, X_train and y_train, are created to store the features and labels (target values) for training data.These will be used to train a machine learning model.\n",
        "X_train = []\n",
        "y_train = []"
      ],
      "metadata": {
        "id": "ejaPLGX1xfJ8"
      },
      "execution_count": 16,
      "outputs": []
    },
    {
      "cell_type": "markdown",
      "source": [
        "1. ss= StandardScaler(): This line creates an instance of the StandardScaler class and assigns it to the variable ss. The StandardScaler is a preprocessing technique used to scale the data so that it has a mean of 0 and a standard deviation of 1.\n",
        "\n",
        "2. ss = ss.fit_transform(dataset): This line applies the scaling transformation to the dataset. The fit_transform() method fits the scaler to the data and then transforms the data accordingly. After this line, the dataset is now scaled with a mean of 0 and standard deviation of 1.\n",
        "\n",
        "3. train_data = ss[0:int(training), :]: This line creates a new variable train_data and assigns a portion of the scaled dataset to it. The data is sliced from index 0 to training-1. The value of training is assumed to be defined earlier in the code, representing the number of data points intended for training. The : in the second part means that all columns are included.\n",
        "\n",
        "4. X_train = []: This line creates an empty list named X_train. This list will be used to store the features of the training data.\n",
        "\n",
        "5. y_train = []: This line creates another empty list named y_train. This list will be used to store the labels (or target values) corresponding to the features in X_train.\n",
        "\n",
        "So, to summarize, the code performs data scaling using StandardScaler, slices a portion of the scaled data for training, and creates empty lists to hold the features and labels for training data. The code suggests that the features are being prepared for some machine learning model where X_train will be used as input features and y_train as their corresponding labels."
      ],
      "metadata": {
        "id": "YhV86IMYX8kl"
      }
    },
    {
      "cell_type": "code",
      "source": [
        "#considering 60 as the batch size\n",
        "#create x_train and y_train\n",
        "\n",
        "#The code starts a loop that will process the data in chunks of 60 time steps.\n",
        "for i in range(60, len(train_data)):\n",
        "  #creates a sequence of 60 data points as one input feature for the model\n",
        "  #Within the same loop, it captures a single data point as the target value to predict based on the input sequence.\n",
        "  X_train.append(train_data[i-59:i, 0])\n",
        "  y_train.append(train_data[i,0])\n",
        "\n",
        "#converts the data from lists to more efficient numerical arrays\n",
        "X_train, y_train = np.array(X_train), np.array(y_train)\n",
        "#adjusts the shape of the data to make it suitable for training a time series model.\n",
        "X_train = np.reshape (X_train, (X_train.shape[0], X_train.shape[1],1))\n"
      ],
      "metadata": {
        "id": "7VIVNSXozXvr"
      },
      "execution_count": 17,
      "outputs": []
    },
    {
      "cell_type": "markdown",
      "source": [
        "1. for i in range(60, len(train_data)):: This line starts a loop that iterates over a range of numbers, starting from 60 and going up to the length of train_data. This loop is intended to prepare the data for training a time series model, where the 60 suggests a sequence length for each input data point.\n",
        "\n",
        "2. X_train.append(train_data[i-60:i, 0]): Inside the loop, this line appends a sequence of data to the X_train list. It takes a slice of train_data starting from i-60 (60 steps before the current index i) and ending at i (exclusive). The 0 at the end means that we are taking the first column (or the first feature) from the slice. This creates a sequence of 60 data points (time steps) as one input feature for the model.\n",
        "\n",
        "3. y_train.append(train_data[i, 0]): This line appends a single data point to the y_train list. It takes the i-th data point from train_data and again selects the first column (or the first feature) from that data point. This corresponds to the target value (label) that the model needs to predict based on the input sequence.\n",
        "\n",
        "4. X_train, y_train = np.array(X_train), np.array(y_train): After the loop, these lines convert the lists X_train and y_train into NumPy arrays. NumPy arrays are more efficient for numerical computations and are commonly used in machine learning tasks.\n",
        "\n",
        "5. X_train = np.reshape(X_train, (X_train.shape[0], X_train.shape[1], 1)): This line reshapes the X_train array to add an extra dimension, making it suitable for training a recurrent neural network (RNN) or a time-series-based model. The shape of X_train is transformed from (num_samples, 60) to (num_samples, 60, 1), where num_samples is the total number of sequences in the training data, 60 is the sequence length, and 1 represents the number of features (as we are dealing with univariate time series data).\n",
        "\n",
        "In summary, the code prepares the training data for a time series model by creating input sequences of length 60 (based on historical data) and their corresponding target values. These sequences are stored in X_train and the corresponding targets in y_train. The data is then converted into NumPy arrays and reshaped to fit the requirements of a time-series-based model."
      ],
      "metadata": {
        "id": "b7X1ay2ZYDzk"
      }
    },
    {
      "cell_type": "markdown",
      "source": [
        "# Model Building"
      ],
      "metadata": {
        "id": "abbNqsZ2MPcn"
      }
    },
    {
      "cell_type": "markdown",
      "source": [
        "Building an RNN\n",
        "- RNNs are hard to train and prune to vanishing gradient so use LSTM which is the RNN gated cell; LSTM reduces the problem of vanishing gradients\n",
        "\n",
        "- RNNs are hard to train and prone to vanishing gradients:\n",
        "-  - RNNs (Recurrent Neural Networks) have a problem called \"vanishing gradient,\" which occurs during training. It means that the gradients (derivatives) of the error with respect to the weights of the RNN become extremely small as they are propagated back through time, causing slow or ineffective learning.\n",
        "This vanishing gradient problem makes it difficult for RNNs to capture long-term dependencies in sequential data, limiting their ability to learn and retain important information over time.\n",
        "- LSTM (Long Short-Term Memory) is an RNN gated cell:\n",
        "- - LSTM is a variant of RNNs specifically designed to address the vanishing gradient problem and capture long-term dependencies effectively.\n",
        "It introduces a gating mechanism that allows it to learn which information to remember, forget, and update in the context of sequential data.\n",
        "The gating mechanism in LSTM allows it to mitigate the vanishing gradient problem and retain important information for longer periods, making it more suitable for modeling sequential data.\n",
        "\n",
        "- LSTM reduces the problem of vanishing gradients:\n",
        "- - The introduction of gates in LSTM enables it to control the flow of information within the network, which prevents the vanishing gradient problem to a large extent.\n",
        "By learning when to keep information and when to forget it, LSTM can maintain relevant information for longer periods during training, making it easier to learn from sequences with long dependencies.\n",
        "As a result, LSTM has an advantage over traditional RNNs when it comes to capturing long-term dependencies and avoiding the vanishing gradient problem."
      ],
      "metadata": {
        "id": "HPidysnMZiq7"
      }
    },
    {
      "cell_type": "code",
      "source": [
        "# Importing necessary libraries\n",
        "import keras\n",
        "\n",
        "# Creating a sequential model\n",
        "model = keras.models.Sequential()\n",
        "\n",
        "# Adding a Long Short-Term Memory (LSTM) layer to the model with 64 units,\n",
        "# returning sequences (necessary for stacking LSTM layers), and input shape as (X_train.shape[1], 1)\n",
        "model.add(keras.layers.LSTM(units=64,\n",
        "                            return_sequences=True,\n",
        "                            input_shape=(X_train.shape[1], 1)))\n",
        "\n",
        "# Adding another LSTM layer to the model with 64 units\n",
        "model.add(keras.layers.LSTM(units=64))\n",
        "\n",
        "# Adding a Dense (fully connected) layer to the model with 128 units\n",
        "model.add(keras.layers.Dense(128))\n",
        "\n",
        "# Adding a Dropout layer with a rate of 0.5 to help prevent overfitting\n",
        "model.add(keras.layers.Dropout(0.5))\n",
        "\n",
        "# Adding a Dense (fully connected) layer to the model with 1 unit, for regression tasks\n",
        "model.add(keras.layers.Dense(1))\n",
        "\n",
        "# Printing the summary of the model architecture, showing the number of parameters and layer connections\n",
        "print(model.summary())\n"
      ],
      "metadata": {
        "id": "uBcWMGtrpcGO",
        "colab": {
          "base_uri": "https://localhost:8080/"
        },
        "outputId": "354b9ddf-c991-4a36-999d-12ecc36e7fa6"
      },
      "execution_count": 18,
      "outputs": [
        {
          "output_type": "stream",
          "name": "stdout",
          "text": [
            "Model: \"sequential\"\n",
            "_________________________________________________________________\n",
            " Layer (type)                Output Shape              Param #   \n",
            "=================================================================\n",
            " lstm (LSTM)                 (None, 59, 64)            16896     \n",
            "                                                                 \n",
            " lstm_1 (LSTM)               (None, 64)                33024     \n",
            "                                                                 \n",
            " dense (Dense)               (None, 128)               8320      \n",
            "                                                                 \n",
            " dropout (Dropout)           (None, 128)               0         \n",
            "                                                                 \n",
            " dense_1 (Dense)             (None, 1)                 129       \n",
            "                                                                 \n",
            "=================================================================\n",
            "Total params: 58369 (228.00 KB)\n",
            "Trainable params: 58369 (228.00 KB)\n",
            "Non-trainable params: 0 (0.00 Byte)\n",
            "_________________________________________________________________\n",
            "None\n"
          ]
        }
      ]
    },
    {
      "cell_type": "markdown",
      "source": [
        "- This code creates a Sequential model with two LSTM layers, followed by two Dense layers with dropout regularization in between. The model is suitable for sequence data with one feature per time step and is designed for regression tasks with a single output value.\n",
        "\n",
        "\n",
        "\n",
        "\n"
      ],
      "metadata": {
        "id": "_vOFxAzBoauB"
      }
    },
    {
      "cell_type": "code",
      "source": [
        "# Compiling the model with the Adam optimizer, mean absolute error (MAE) loss function,\n",
        "# and using the RootMeanSquaredError metric to evaluate the model's performance.\n",
        "model.compile(optimizer='adam',\n",
        "              loss='mae',\n",
        "              metrics=RootMeanSquaredError())\n",
        "\n",
        "# Training the model on the training data (X_train and y_train) for 20 epochs.\n",
        "# The training progress and performance metrics will be stored in the 'history' variable.\n",
        "history = model.fit(X_train, y_train, epochs=20)\n"
      ],
      "metadata": {
        "id": "VYFRHFuZoeOO",
        "colab": {
          "base_uri": "https://localhost:8080/"
        },
        "outputId": "b18855be-df65-463e-a644-b19a2aa7fc64"
      },
      "execution_count": 19,
      "outputs": [
        {
          "output_type": "stream",
          "name": "stdout",
          "text": [
            "Epoch 1/20\n",
            "254/254 [==============================] - 39s 123ms/step - loss: 0.0443 - root_mean_squared_error: 0.0672\n",
            "Epoch 2/20\n",
            "254/254 [==============================] - 18s 72ms/step - loss: 0.0343 - root_mean_squared_error: 0.0470\n",
            "Epoch 3/20\n",
            "254/254 [==============================] - 18s 71ms/step - loss: 0.0301 - root_mean_squared_error: 0.0421\n",
            "Epoch 4/20\n",
            "254/254 [==============================] - 17s 68ms/step - loss: 0.0302 - root_mean_squared_error: 0.0429\n",
            "Epoch 5/20\n",
            "254/254 [==============================] - 17s 68ms/step - loss: 0.0286 - root_mean_squared_error: 0.0408\n",
            "Epoch 6/20\n",
            "254/254 [==============================] - 17s 68ms/step - loss: 0.0263 - root_mean_squared_error: 0.0381\n",
            "Epoch 7/20\n",
            "254/254 [==============================] - 20s 81ms/step - loss: 0.0259 - root_mean_squared_error: 0.0371\n",
            "Epoch 8/20\n",
            "254/254 [==============================] - 18s 70ms/step - loss: 0.0248 - root_mean_squared_error: 0.0363\n",
            "Epoch 9/20\n",
            "254/254 [==============================] - 17s 68ms/step - loss: 0.0248 - root_mean_squared_error: 0.0368\n",
            "Epoch 10/20\n",
            "254/254 [==============================] - 17s 68ms/step - loss: 0.0249 - root_mean_squared_error: 0.0373\n",
            "Epoch 11/20\n",
            "254/254 [==============================] - 17s 68ms/step - loss: 0.0231 - root_mean_squared_error: 0.0351\n",
            "Epoch 12/20\n",
            "254/254 [==============================] - 18s 72ms/step - loss: 0.0233 - root_mean_squared_error: 0.0349\n",
            "Epoch 13/20\n",
            "254/254 [==============================] - 19s 73ms/step - loss: 0.0232 - root_mean_squared_error: 0.0350\n",
            "Epoch 14/20\n",
            "254/254 [==============================] - 17s 68ms/step - loss: 0.0234 - root_mean_squared_error: 0.0350\n",
            "Epoch 15/20\n",
            "254/254 [==============================] - 17s 68ms/step - loss: 0.0230 - root_mean_squared_error: 0.0347\n",
            "Epoch 16/20\n",
            "254/254 [==============================] - 17s 68ms/step - loss: 0.0226 - root_mean_squared_error: 0.0342\n",
            "Epoch 17/20\n",
            "254/254 [==============================] - 17s 68ms/step - loss: 0.0222 - root_mean_squared_error: 0.0341\n",
            "Epoch 18/20\n",
            "254/254 [==============================] - 19s 73ms/step - loss: 0.0226 - root_mean_squared_error: 0.0353\n",
            "Epoch 19/20\n",
            "254/254 [==============================] - 18s 70ms/step - loss: 0.0220 - root_mean_squared_error: 0.0336\n",
            "Epoch 20/20\n",
            "254/254 [==============================] - 17s 68ms/step - loss: 0.0225 - root_mean_squared_error: 0.0343\n"
          ]
        }
      ]
    },
    {
      "cell_type": "markdown",
      "source": [
        "The Adam optimizer is an optimization algorithm used to update the parameters (weights and biases) of a neural network during the training process. It combines the advantages of two other popular optimizers, AdaGrad and RMSprop, to provide efficient and adaptive learning rates for each parameter. Adam stands for \"Adaptive Moment Estimation\" and is widely used in deep learning because it helps the model converge faster and handle sparse gradients effectively."
      ],
      "metadata": {
        "id": "_zei_KF8oam_"
      }
    },
    {
      "cell_type": "markdown",
      "source": [
        "In the above code, \"epochs\" refer to the number of times the entire training dataset (Xtrain and y_train) is passed forward and backward through the neural network during the training process. Each epoch consists of one forward pass (where the input data is fed into the network, and the output is calculated) and one backward pass (where the model's parameters are updated using an optimization algorithm like Adam) to adjust the model's weights.\n",
        "\n",
        "In other words, the training process is divided into a fixed number of epochs, and in each epoch, the model learns from the training data, gradually improving its ability to make accurate predictions. The number of epochs is a hyperparameter that can be adjusted based on the complexity of the problem and the size of the dataset to ensure that the model converges to an optimal solution without overfitting or underfitting."
      ],
      "metadata": {
        "id": "yL3YJhpjq485"
      }
    },
    {
      "cell_type": "markdown",
      "source": [
        "# Model Evaluation"
      ],
      "metadata": {
        "id": "RURqoSgpq-I3"
      }
    },
    {
      "cell_type": "code",
      "source": [
        "# Create a variable 'testing' by slicing the 'ss' array from index 'training - 60' to the end, including all columns.\n",
        "testing = ss[training - 59:, :]\n",
        "\n",
        "# Initialize an empty list 'X_test' to store the input data for testing.\n",
        "X_test = []\n",
        "\n",
        "# Create a variable 'y_test' by slicing the 'dataset' array from index 'training' to the end, including all columns.\n",
        "y_test = dataset[training:, :]\n",
        "\n",
        "# Iterate over the range from 60 to the length of 'testing'.\n",
        "for i in range(59, len(testing)):\n",
        "\n",
        "    # Append a sequence of 60 elements from 'testing' (indexed from 'i-60' to 'i') as a new element in 'X_test'.\n",
        "    X_test.append(testing[i-59:i, 0])\n",
        "\n",
        "# Convert 'X_test' list to a NumPy array.\n",
        "X_test = np.array(X_test)\n",
        "\n",
        "# Reshape 'X_test' to a 3D array with dimensions (number of samples, 60, 1).\n",
        "X_test = np.reshape(X_test, (X_test.shape[0], X_test.shape[1], 1))\n",
        "\n",
        "# Use the 'model' to make predictions on the 'X_test' data and store the results in 'pred'.\n",
        "pred = model.predict(X_test)\n"
      ],
      "metadata": {
        "id": "_VKetfPbrBPC",
        "colab": {
          "base_uri": "https://localhost:8080/"
        },
        "outputId": "e5dd2de2-ff8b-425f-81d6-7267def6cb52"
      },
      "execution_count": 23,
      "outputs": [
        {
          "output_type": "stream",
          "name": "stdout",
          "text": [
            "29/29 [==============================] - 1s 35ms/step\n"
          ]
        }
      ]
    },
    {
      "cell_type": "code",
      "source": [
        "# Create a new DataFrame 'train' containing the data from 'df' up to the 'training' index (exclusive).\n",
        "train = df[:training]\n",
        "\n",
        "# Create a new DataFrame 'test' containing the data from 'df' starting from the 'training' index (inclusive) till the end.\n",
        "test = df[training:]\n",
        "\n",
        "# Add a new column named 'Predictions' to the 'test' DataFrame and assign the 'pred' values to it.\n",
        "test['Predictions'] = pred\n",
        "\n",
        "# Create a new figure for the plot with a size of 10x8 inches.\n",
        "plt.figure(figsize=(10, 8))\n",
        "\n",
        "# Plot the 'close' column from the 'train' DataFrame using blue color.\n",
        "plt.plot(train['close'], c=\"b\")\n",
        "\n",
        "# Plot the 'close' and 'Predictions' columns from the 'test' DataFrame.\n",
        "# The 'close' column will be plotted with its default color, and the 'Predictions' column will use the next available color.\n",
        "plt.plot(test[['close', 'Predictions']])\n",
        "\n",
        "# Set the title for the plot as 'MSFT Close Price'.\n",
        "plt.title('MSFT Close Price')\n",
        "\n",
        "# Set the label for the y-axis as 'Close'.\n",
        "plt.ylabel(\"Close\")\n",
        "\n",
        "# Add a legend to the plot with labels ['Train', 'Test', 'Predictions'] to distinguish between the plotted lines.\n",
        "plt.legend(['Train', 'Test', 'Predictions'])\n"
      ],
      "metadata": {
        "id": "mSbTZRsdsYav",
        "colab": {
          "base_uri": "https://localhost:8080/",
          "height": 717
        },
        "outputId": "0371cc32-65e0-496e-df7f-afa886ea29bf"
      },
      "execution_count": 24,
      "outputs": [
        {
          "output_type": "execute_result",
          "data": {
            "text/plain": [
              "<matplotlib.legend.Legend at 0x7f088f0a2f50>"
            ]
          },
          "metadata": {},
          "execution_count": 24
        },
        {
          "output_type": "display_data",
          "data": {
            "text/plain": [
              "<Figure size 1000x800 with 1 Axes>"
            ],
            "image/png": "[encoded data removed]"
          },
          "metadata": {}
        }
      ]
    }
  ]
}